{
  "nbformat": 4,
  "nbformat_minor": 0,
  "metadata": {
    "colab": {
      "provenance": []
    },
    "kernelspec": {
      "name": "python3",
      "display_name": "Python 3"
    },
    "language_info": {
      "name": "python"
    }
  },
  "cells": [
    {
      "cell_type": "markdown",
      "source": [
        "# PyTorch introduction\n",
        "* In the python language with the machine learning application\n"
      ],
      "metadata": {
        "id": "jLj6NQioxx1M"
      }
    },
    {
      "cell_type": "code",
      "execution_count": null,
      "metadata": {
        "id": "5ayX1QRnxLU0"
      },
      "outputs": [],
      "source": [
        "import torch\n",
        "import torch.nn as nn"
      ]
    },
    {
      "cell_type": "code",
      "source": [
        "# Numbers\n",
        "t1 = torch.tensor(4.)\n",
        "t1.shape\n",
        "t1.dtype"
      ],
      "metadata": {
        "colab": {
          "base_uri": "https://localhost:8080/"
        },
        "id": "Jv7KqUu-5FMo",
        "outputId": "03711a91-ac20-4ad6-d71f-2dd24dd81a9e"
      },
      "execution_count": null,
      "outputs": [
        {
          "output_type": "execute_result",
          "data": {
            "text/plain": [
              "torch.float32"
            ]
          },
          "metadata": {},
          "execution_count": 147
        }
      ]
    },
    {
      "cell_type": "code",
      "source": [
        "# Vector\n",
        "t2 = torch.tensor([1.0 , 2 , 3, 4])\n",
        "t2.shape"
      ],
      "metadata": {
        "colab": {
          "base_uri": "https://localhost:8080/"
        },
        "id": "5W1q9hJY5MP8",
        "outputId": "e76911b3-1de8-4832-9191-25dbfab13218"
      },
      "execution_count": null,
      "outputs": [
        {
          "output_type": "execute_result",
          "data": {
            "text/plain": [
              "torch.Size([4])"
            ]
          },
          "metadata": {},
          "execution_count": 148
        }
      ]
    },
    {
      "cell_type": "code",
      "source": [
        "# Matrix\n",
        "t3 = torch.tensor([[5. , 6] , [7 , 8] , [9 , 10]])\n",
        "t3"
      ],
      "metadata": {
        "colab": {
          "base_uri": "https://localhost:8080/"
        },
        "id": "3QXB4W576AhR",
        "outputId": "cc2cce12-6c98-46c5-fa43-9202bc62ee7e"
      },
      "execution_count": null,
      "outputs": [
        {
          "output_type": "execute_result",
          "data": {
            "text/plain": [
              "tensor([[ 5.,  6.],\n",
              "        [ 7.,  8.],\n",
              "        [ 9., 10.]])"
            ]
          },
          "metadata": {},
          "execution_count": 149
        }
      ]
    },
    {
      "cell_type": "code",
      "source": [
        "# 3-dimensional array\n",
        "t4 = torch.tensor([\n",
        "    [[11 , 12 , 13],\n",
        "     [13 , 14 , 15]],\n",
        "    [[15 , 16 , 17] ,\n",
        "     [17 , 18 , 19.]]\n",
        "])\n",
        "\n",
        "t4"
      ],
      "metadata": {
        "colab": {
          "base_uri": "https://localhost:8080/"
        },
        "id": "mP1zBoGt6UJT",
        "outputId": "47a471f4-a561-40aa-a513-7d1f54fcf817"
      },
      "execution_count": null,
      "outputs": [
        {
          "output_type": "execute_result",
          "data": {
            "text/plain": [
              "tensor([[[11., 12., 13.],\n",
              "         [13., 14., 15.]],\n",
              "\n",
              "        [[15., 16., 17.],\n",
              "         [17., 18., 19.]]])"
            ]
          },
          "metadata": {},
          "execution_count": 150
        }
      ]
    },
    {
      "cell_type": "markdown",
      "source": [
        "### Tensor operation and gradients"
      ],
      "metadata": {
        "id": "XrkKvCx77lYf"
      }
    },
    {
      "cell_type": "code",
      "source": [
        "x  = torch.tensor(3.)\n",
        "w = torch.tensor(4. , requires_grad = True)\n",
        "b = torch.tensor(5. , requires_grad = True) # We need the requires_grad =  True to set the value for the backpropagation true"
      ],
      "metadata": {
        "id": "KQO5VEcG7qBZ"
      },
      "execution_count": null,
      "outputs": []
    },
    {
      "cell_type": "code",
      "source": [
        "y = w * x  + b\n",
        "y"
      ],
      "metadata": {
        "colab": {
          "base_uri": "https://localhost:8080/"
        },
        "id": "2D1HHWkA8dZD",
        "outputId": "2575d24b-e723-4bd2-df91-637a330c619e"
      },
      "execution_count": null,
      "outputs": [
        {
          "output_type": "execute_result",
          "data": {
            "text/plain": [
              "tensor(17., grad_fn=<AddBackward0>)"
            ]
          },
          "metadata": {},
          "execution_count": 152
        }
      ]
    },
    {
      "cell_type": "code",
      "source": [
        "# Compute the derivatives\n",
        "y.backward()"
      ],
      "metadata": {
        "id": "bslOy7328jAM"
      },
      "execution_count": null,
      "outputs": []
    },
    {
      "cell_type": "code",
      "source": [
        "# Display gradients\n",
        "print('dy/dx:' , x.grad)\n",
        "print('dy/dw' , w.grad)\n",
        "print('dy/db' , b.grad)"
      ],
      "metadata": {
        "colab": {
          "base_uri": "https://localhost:8080/"
        },
        "id": "EK4Oe_Dk9fW6",
        "outputId": "d67df566-a805-4464-8e2f-cbf41b741a23"
      },
      "execution_count": null,
      "outputs": [
        {
          "output_type": "stream",
          "name": "stdout",
          "text": [
            "dy/dx: None\n",
            "dy/dw tensor(3.)\n",
            "dy/db tensor(1.)\n"
          ]
        }
      ]
    },
    {
      "cell_type": "code",
      "source": [
        "import numpy as np\n",
        "\n",
        "x = np.array([[1 , 2] , [3. , 4]] )\n",
        "x.shape"
      ],
      "metadata": {
        "colab": {
          "base_uri": "https://localhost:8080/"
        },
        "id": "Q2vdk2hC9ovu",
        "outputId": "b89eb7fa-273d-4c73-e717-3ce2ad422e3e"
      },
      "execution_count": null,
      "outputs": [
        {
          "output_type": "execute_result",
          "data": {
            "text/plain": [
              "(2, 2)"
            ]
          },
          "metadata": {},
          "execution_count": 155
        }
      ]
    },
    {
      "cell_type": "code",
      "source": [
        "# Conver numpy to the tensor torch\n",
        "y = torch.from_numpy(x)\n",
        "y = torch.tensor(x)\n",
        "y"
      ],
      "metadata": {
        "colab": {
          "base_uri": "https://localhost:8080/"
        },
        "id": "DPOvUFwA_VWM",
        "outputId": "4b3303b2-d1bb-4757-d5b1-303c515bbe15"
      },
      "execution_count": null,
      "outputs": [
        {
          "output_type": "execute_result",
          "data": {
            "text/plain": [
              "tensor([[1., 2.],\n",
              "        [3., 4.]], dtype=torch.float64)"
            ]
          },
          "metadata": {},
          "execution_count": 156
        }
      ]
    },
    {
      "cell_type": "code",
      "source": [
        "x.dtype , y.dtype"
      ],
      "metadata": {
        "colab": {
          "base_uri": "https://localhost:8080/"
        },
        "id": "OatBXe43_q8V",
        "outputId": "95af5159-f8d1-4ec7-b6e6-1dd0bfb7276e"
      },
      "execution_count": null,
      "outputs": [
        {
          "output_type": "execute_result",
          "data": {
            "text/plain": [
              "(dtype('float64'), torch.float64)"
            ]
          },
          "metadata": {},
          "execution_count": 157
        }
      ]
    },
    {
      "cell_type": "code",
      "source": [
        "# Convert a torch tensor to anumpy array\n",
        "z = y.numpy()\n",
        "z"
      ],
      "metadata": {
        "colab": {
          "base_uri": "https://localhost:8080/"
        },
        "id": "wNz5EsOx_9L3",
        "outputId": "aa029b63-6642-4dec-ceff-236f721dbfac"
      },
      "execution_count": null,
      "outputs": [
        {
          "output_type": "execute_result",
          "data": {
            "text/plain": [
              "array([[1., 2.],\n",
              "       [3., 4.]])"
            ]
          },
          "metadata": {},
          "execution_count": 158
        }
      ]
    },
    {
      "cell_type": "code",
      "source": [
        "# !pip install jovian --upgrade\n",
        "# import jovian"
      ],
      "metadata": {
        "id": "19AIJhIlAQR7"
      },
      "execution_count": null,
      "outputs": []
    },
    {
      "cell_type": "code",
      "source": [
        "# jovian.commit()"
      ],
      "metadata": {
        "id": "eWAY7ka2CNwQ"
      },
      "execution_count": null,
      "outputs": []
    },
    {
      "cell_type": "code",
      "source": [
        "# Training the data using inputs and the outputs\n",
        "# Input (temp , rainfall , humidity)\n",
        "inputs = np.array([[73 , 67 , 43],\n",
        "                   [91 , 88  , 64],\n",
        "                   [87 , 134 , 58],\n",
        "                   [102 , 43 , 37],\n",
        "                   [69 , 96 , 70]\n",
        "                   ] , dtype = 'float32')\n",
        "\n",
        "\n",
        "\n"
      ],
      "metadata": {
        "id": "a1VwCAXQKB4m"
      },
      "execution_count": null,
      "outputs": []
    },
    {
      "cell_type": "code",
      "source": [
        "targets = np.array([[56 , 70],\n",
        "                   [81 , 101],\n",
        "                   [119 , 133],\n",
        "                   [22 , 37],\n",
        "                   [103 , 119]\n",
        "                   ] , dtype = 'float32')"
      ],
      "metadata": {
        "id": "c8ar_Hq8LNMm"
      },
      "execution_count": null,
      "outputs": []
    },
    {
      "cell_type": "code",
      "source": [
        "# Converts all the inputs and the targets to tensor\n",
        "inpute = torch.from_numpy(inputs)\n",
        "targets = torch.from_numpy(targets)\n",
        "inputs.shape , targets.shape"
      ],
      "metadata": {
        "colab": {
          "base_uri": "https://localhost:8080/"
        },
        "id": "TiCCuEt6MB3V",
        "outputId": "3b18a440-aa5f-4f33-b38d-63ac3f4fce91"
      },
      "execution_count": null,
      "outputs": [
        {
          "output_type": "execute_result",
          "data": {
            "text/plain": [
              "((5, 3), torch.Size([5, 2]))"
            ]
          },
          "metadata": {},
          "execution_count": 163
        }
      ]
    },
    {
      "cell_type": "code",
      "source": [
        "# weights and nbiases\n",
        "w = torch.randn(2 , 3 , requires_grad = True)\n",
        "b = torch.randn(2 , requires_grad = True)\n",
        "w , b"
      ],
      "metadata": {
        "colab": {
          "base_uri": "https://localhost:8080/"
        },
        "id": "6b0EinrHMr1S",
        "outputId": "e61c27ba-d7f5-429b-a8b9-aac3ad11275f"
      },
      "execution_count": null,
      "outputs": [
        {
          "output_type": "execute_result",
          "data": {
            "text/plain": [
              "(tensor([[-0.4313,  0.7108, -1.2652],\n",
              "         [-0.4533,  2.3586,  0.1752]], requires_grad=True),\n",
              " tensor([ 0.2871, -0.8974], requires_grad=True))"
            ]
          },
          "metadata": {},
          "execution_count": 164
        }
      ]
    },
    {
      "cell_type": "code",
      "source": [
        "def model(x):\n",
        "  return (((x @ w.t())) + b)"
      ],
      "metadata": {
        "id": "LH5Akh5LNGoa"
      },
      "execution_count": null,
      "outputs": []
    },
    {
      "cell_type": "code",
      "source": [
        "def model(x):\n",
        "  return ((torch.matmul(x , w.t())) + b)"
      ],
      "metadata": {
        "id": "cPnfJ2pKQcCY"
      },
      "execution_count": null,
      "outputs": []
    },
    {
      "cell_type": "code",
      "source": [
        "pred = model(inpute)\n",
        "pred"
      ],
      "metadata": {
        "colab": {
          "base_uri": "https://localhost:8080/"
        },
        "id": "lQ4yF2m-OT9q",
        "outputId": "63ba299d-6a68-41f6-92ab-d49b88cbcd80"
      },
      "execution_count": null,
      "outputs": [
        {
          "output_type": "execute_result",
          "data": {
            "text/plain": [
              "tensor([[-37.9739, 131.5706],\n",
              "        [-57.3784, 176.6205],\n",
              "        [-15.3642, 285.8786],\n",
              "        [-59.9500,  60.7672],\n",
              "        [-49.7945, 206.5130]], grad_fn=<AddBackward0>)"
            ]
          },
          "metadata": {},
          "execution_count": 167
        }
      ]
    },
    {
      "cell_type": "code",
      "source": [
        "print(targets)"
      ],
      "metadata": {
        "colab": {
          "base_uri": "https://localhost:8080/"
        },
        "id": "uRHPcDRsOXb5",
        "outputId": "c789b75f-43fa-49f6-f25c-237a8ca15f9e"
      },
      "execution_count": null,
      "outputs": [
        {
          "output_type": "stream",
          "name": "stdout",
          "text": [
            "tensor([[ 56.,  70.],\n",
            "        [ 81., 101.],\n",
            "        [119., 133.],\n",
            "        [ 22.,  37.],\n",
            "        [103., 119.]])\n"
          ]
        }
      ]
    },
    {
      "cell_type": "code",
      "source": [
        "# implement the mean  squared error(MSE)\n",
        "def mse(targets , pred):\n",
        "  diff = targets - pred\n",
        "  return torch.sum(diff * diff) / diff.numel() # numel() return the numbers of the data points like len()\n"
      ],
      "metadata": {
        "id": "LqKObaseQ7uF"
      },
      "execution_count": null,
      "outputs": []
    },
    {
      "cell_type": "code",
      "source": [
        "loss = mse(targets , pred)\n",
        "loss"
      ],
      "metadata": {
        "colab": {
          "base_uri": "https://localhost:8080/"
        },
        "id": "qut8JqejSCIB",
        "outputId": "ee964825-8174-4797-f9c5-bdd4e4db0864"
      },
      "execution_count": null,
      "outputs": [
        {
          "output_type": "execute_result",
          "data": {
            "text/plain": [
              "tensor(11720.0059, grad_fn=<DivBackward0>)"
            ]
          },
          "metadata": {},
          "execution_count": 170
        }
      ]
    },
    {
      "cell_type": "code",
      "source": [
        "# Compute the gradient\n",
        "# loss.backward()\n"
      ],
      "metadata": {
        "id": "Sd16dcY1S885"
      },
      "execution_count": null,
      "outputs": []
    },
    {
      "cell_type": "code",
      "source": [
        "# Gradients for the weights\n",
        "print(w)\n",
        "print(w.grad) # with gradient is the derivative of the loss with respect the weights w"
      ],
      "metadata": {
        "colab": {
          "base_uri": "https://localhost:8080/"
        },
        "id": "YyUS40x-Tbmi",
        "outputId": "3f332619-968f-4610-f3a9-50df42d0b175"
      },
      "execution_count": null,
      "outputs": [
        {
          "output_type": "stream",
          "name": "stdout",
          "text": [
            "tensor([[-0.4313,  0.7108, -1.2652],\n",
            "        [-0.4533,  2.3586,  0.1752]], requires_grad=True)\n",
            "None\n"
          ]
        }
      ]
    },
    {
      "cell_type": "code",
      "source": [
        "print(b)\n",
        "print(b.grad)\n"
      ],
      "metadata": {
        "colab": {
          "base_uri": "https://localhost:8080/"
        },
        "id": "kQO3mLBcUDDs",
        "outputId": "aa662726-ce7d-4a60-f184-dd873f1312e7"
      },
      "execution_count": null,
      "outputs": [
        {
          "output_type": "stream",
          "name": "stdout",
          "text": [
            "tensor([ 0.2871, -0.8974], requires_grad=True)\n",
            "None\n"
          ]
        }
      ]
    },
    {
      "cell_type": "code",
      "source": [
        "# w.grad.zero_()\n",
        "# b.grad.zero_()\n",
        "# print(w.grad)\n",
        "# print(b.grad) # we need to use zero because pytorch use accumlate function about all the gradients that's why we need to set the value to 0 if we starting working from begineer\n"
      ],
      "metadata": {
        "id": "pmWhEKLqbEjm"
      },
      "execution_count": null,
      "outputs": []
    },
    {
      "cell_type": "code",
      "source": [
        "loss.backward()\n",
        "print(w.grad)\n",
        "print(b.grad)"
      ],
      "metadata": {
        "colab": {
          "base_uri": "https://localhost:8080/"
        },
        "id": "_dAiD4E1gp88",
        "outputId": "d890b8ac-a32b-468f-a751-be4664811974"
      },
      "execution_count": null,
      "outputs": [
        {
          "output_type": "stream",
          "name": "stdout",
          "text": [
            "tensor([[-10008.7891, -10934.0967,  -6883.5977],\n",
            "        [  6627.8413,   8137.7612,   4671.9004]])\n",
            "tensor([-120.2922,   80.2700])\n"
          ]
        }
      ]
    },
    {
      "cell_type": "code",
      "source": [
        "# Adjust weights & reset gradients\n",
        "\n",
        "with torch.no_grad():\n",
        "\n",
        "  w -= w.grad * 1e-5\n",
        "  b -= b.grad * 1e-5\n",
        "  w.grad.zero_()\n",
        "  b.grad.zero_()\n",
        "\n"
      ],
      "metadata": {
        "id": "iefqL72Lc5IZ"
      },
      "execution_count": null,
      "outputs": []
    },
    {
      "cell_type": "code",
      "source": [
        "# train for the 100 epochs\n",
        "\n",
        "for i in range(10000):\n",
        "  preds = model(inpute)\n",
        "  loss  = mse(preds , targets)\n",
        "  loss.backward()\n",
        "  with torch.no_grad():\n",
        "    w -= w.grad * 1e-5 # learning rate\n",
        "    b -= b.grad * 1e-5\n",
        "    w.grad.zero_()\n",
        "    b.grad.zero_()"
      ],
      "metadata": {
        "id": "sAjfJl9EfM7e"
      },
      "execution_count": null,
      "outputs": []
    },
    {
      "cell_type": "code",
      "source": [
        "# Calculate the loss\n",
        "preds = model(inpute)\n",
        "loss = mse(preds , targets)\n",
        "print(loss)"
      ],
      "metadata": {
        "colab": {
          "base_uri": "https://localhost:8080/"
        },
        "id": "O-ztQN9ajp5P",
        "outputId": "68ee4801-dcfa-444b-fbfc-e82933c8fbb2"
      },
      "execution_count": null,
      "outputs": [
        {
          "output_type": "stream",
          "name": "stdout",
          "text": [
            "tensor(0.5057, grad_fn=<DivBackward0>)\n"
          ]
        }
      ]
    },
    {
      "cell_type": "code",
      "source": [
        "print(preds)"
      ],
      "metadata": {
        "colab": {
          "base_uri": "https://localhost:8080/"
        },
        "id": "ZaIXxQHwlXoc",
        "outputId": "e72ed834-e7d6-467d-ed5d-7dc15eade512"
      },
      "execution_count": null,
      "outputs": [
        {
          "output_type": "stream",
          "name": "stdout",
          "text": [
            "tensor([[ 57.2151,  70.1597],\n",
            "        [ 82.1748, 100.7634],\n",
            "        [118.6866, 132.9838],\n",
            "        [ 21.0757,  37.0344],\n",
            "        [101.9267, 119.1128]], grad_fn=<AddBackward0>)\n"
          ]
        }
      ]
    },
    {
      "cell_type": "code",
      "source": [
        "print(targets)"
      ],
      "metadata": {
        "colab": {
          "base_uri": "https://localhost:8080/"
        },
        "id": "9g1EvhKFmJuu",
        "outputId": "ff9a5945-c047-4b11-8a9f-09aab9ed9e90"
      },
      "execution_count": null,
      "outputs": [
        {
          "output_type": "stream",
          "name": "stdout",
          "text": [
            "tensor([[ 56.,  70.],\n",
            "        [ 81., 101.],\n",
            "        [119., 133.],\n",
            "        [ 22.,  37.],\n",
            "        [103., 119.]])\n"
          ]
        }
      ]
    },
    {
      "cell_type": "code",
      "source": [
        "inpute"
      ],
      "metadata": {
        "colab": {
          "base_uri": "https://localhost:8080/"
        },
        "id": "qfNSmar0mMfm",
        "outputId": "ec25e061-7dff-4cf7-c9c9-daec83344af7"
      },
      "execution_count": null,
      "outputs": [
        {
          "output_type": "execute_result",
          "data": {
            "text/plain": [
              "tensor([[ 73.,  67.,  43.],\n",
              "        [ 91.,  88.,  64.],\n",
              "        [ 87., 134.,  58.],\n",
              "        [102.,  43.,  37.],\n",
              "        [ 69.,  96.,  70.]])"
            ]
          },
          "metadata": {},
          "execution_count": 181
        }
      ]
    },
    {
      "cell_type": "code",
      "source": [
        "targets"
      ],
      "metadata": {
        "colab": {
          "base_uri": "https://localhost:8080/"
        },
        "id": "z7TtiB_VqQFS",
        "outputId": "147a2b21-fd19-4156-ddc5-8b27ec1195e7"
      },
      "execution_count": null,
      "outputs": [
        {
          "output_type": "execute_result",
          "data": {
            "text/plain": [
              "tensor([[ 56.,  70.],\n",
              "        [ 81., 101.],\n",
              "        [119., 133.],\n",
              "        [ 22.,  37.],\n",
              "        [103., 119.]])"
            ]
          },
          "metadata": {},
          "execution_count": 182
        }
      ]
    },
    {
      "cell_type": "code",
      "source": [
        "from torch.utils.data import TensorDataset\n",
        "# Define the dataset\n",
        "train_ds = TensorDataset(inpute , targets)\n",
        "train_ds[1 :  , 1: ]"
      ],
      "metadata": {
        "colab": {
          "base_uri": "https://localhost:8080/"
        },
        "id": "PYXZZ5TUqW8r",
        "outputId": "08ead634-e76c-4b1d-f401-cc127f212114"
      },
      "execution_count": null,
      "outputs": [
        {
          "output_type": "execute_result",
          "data": {
            "text/plain": [
              "(tensor([[ 88.,  64.],\n",
              "         [134.,  58.],\n",
              "         [ 43.,  37.],\n",
              "         [ 96.,  70.]]),\n",
              " tensor([[101.],\n",
              "         [133.],\n",
              "         [ 37.],\n",
              "         [119.]]))"
            ]
          },
          "metadata": {},
          "execution_count": 183
        }
      ]
    },
    {
      "cell_type": "code",
      "source": [
        "q = 0\n",
        "for i , n in train_ds:\n",
        "  q+=1\n",
        "  print(f\"batch:{q}\")\n",
        "  print(i)\n",
        "  print(n)"
      ],
      "metadata": {
        "id": "Hf0s3kalqsdS",
        "colab": {
          "base_uri": "https://localhost:8080/"
        },
        "outputId": "67f86500-33b2-4ec1-a6f1-94f24481898e"
      },
      "execution_count": null,
      "outputs": [
        {
          "output_type": "stream",
          "name": "stdout",
          "text": [
            "batch:1\n",
            "tensor([73., 67., 43.])\n",
            "tensor([56., 70.])\n",
            "batch:2\n",
            "tensor([91., 88., 64.])\n",
            "tensor([ 81., 101.])\n",
            "batch:3\n",
            "tensor([ 87., 134.,  58.])\n",
            "tensor([119., 133.])\n",
            "batch:4\n",
            "tensor([102.,  43.,  37.])\n",
            "tensor([22., 37.])\n",
            "batch:5\n",
            "tensor([69., 96., 70.])\n",
            "tensor([103., 119.])\n"
          ]
        }
      ]
    },
    {
      "cell_type": "markdown",
      "source": [
        "### nn.linear"
      ],
      "metadata": {
        "id": "ds_UluaLKzIb"
      }
    },
    {
      "cell_type": "code",
      "source": [
        "# Define the model  with the pytorch\n",
        "\n",
        "model  = nn.Linear(3 , 2) # 3 inputs into the data & 2 output from the data\n",
        "print(model.weight)\n",
        "print(model.bias)"
      ],
      "metadata": {
        "colab": {
          "base_uri": "https://localhost:8080/"
        },
        "id": "-id2Auo5Lk_S",
        "outputId": "0e31daca-4585-4dae-9f8c-3f28da12bacf"
      },
      "execution_count": null,
      "outputs": [
        {
          "output_type": "stream",
          "name": "stdout",
          "text": [
            "Parameter containing:\n",
            "tensor([[-0.4017, -0.2155,  0.0763],\n",
            "        [ 0.1457, -0.0436, -0.2801]], requires_grad=True)\n",
            "Parameter containing:\n",
            "tensor([0.3057, 0.5211], requires_grad=True)\n"
          ]
        }
      ]
    },
    {
      "cell_type": "code",
      "source": [
        "# Parameters\n",
        "list(model.parameters())"
      ],
      "metadata": {
        "colab": {
          "base_uri": "https://localhost:8080/"
        },
        "id": "VdzBMWIpMdNo",
        "outputId": "967fd8fe-14a4-4690-f88f-c2473c0d8157"
      },
      "execution_count": null,
      "outputs": [
        {
          "output_type": "execute_result",
          "data": {
            "text/plain": [
              "[Parameter containing:\n",
              " tensor([[-0.4017, -0.2155,  0.0763],\n",
              "         [ 0.1457, -0.0436, -0.2801]], requires_grad=True),\n",
              " Parameter containing:\n",
              " tensor([0.3057, 0.5211], requires_grad=True)]"
            ]
          },
          "metadata": {},
          "execution_count": 186
        }
      ]
    },
    {
      "cell_type": "code",
      "source": [
        "inputs = torch.from_numpy(inputs)"
      ],
      "metadata": {
        "id": "937lAEleNvRt"
      },
      "execution_count": null,
      "outputs": []
    },
    {
      "cell_type": "markdown",
      "source": [
        "### The model values predictions  compataible with tensorflow"
      ],
      "metadata": {
        "id": "zCvzR4m7pUve"
      }
    },
    {
      "cell_type": "code",
      "source": [
        "# Generate predictions\n",
        "preds = model(inputs) # The model coming from the nn.linear\n",
        "preds"
      ],
      "metadata": {
        "colab": {
          "base_uri": "https://localhost:8080/"
        },
        "id": "2GFcEjhONZc4",
        "outputId": "abb05c09-1d4b-4247-e7e9-401786ade0cb"
      },
      "execution_count": null,
      "outputs": [
        {
          "output_type": "execute_result",
          "data": {
            "text/plain": [
              "tensor([[-40.1765,  -3.8087],\n",
              "        [-50.3307,  -7.9843],\n",
              "        [-59.0943,  -8.8918],\n",
              "        [-47.1115,   3.1442],\n",
              "        [-42.7597, -13.2196]], grad_fn=<AddmmBackward0>)"
            ]
          },
          "metadata": {},
          "execution_count": 188
        }
      ]
    },
    {
      "cell_type": "markdown",
      "source": [
        "#### Loss Function"
      ],
      "metadata": {
        "id": "UKCEPqwANnDD"
      }
    },
    {
      "cell_type": "code",
      "source": [
        "# Imdport nn.functional\n",
        "import torch.nn.functional as F"
      ],
      "metadata": {
        "id": "KjJqQKlupNVC"
      },
      "execution_count": null,
      "outputs": []
    },
    {
      "cell_type": "code",
      "source": [
        "# Define the loss function\n",
        "loss_fn = F.mse_loss"
      ],
      "metadata": {
        "id": "i5lZncZwp1dX"
      },
      "execution_count": null,
      "outputs": []
    },
    {
      "cell_type": "code",
      "source": [
        "# Let's compute the loss the current predictions of our model\n",
        "loss = loss_fn(model(inputs) , targets)\n",
        "print(loss)"
      ],
      "metadata": {
        "colab": {
          "base_uri": "https://localhost:8080/"
        },
        "id": "jXsh1yQAp_Me",
        "outputId": "4bf86601-aa9d-462a-fc81-5ec9901855c4"
      },
      "execution_count": null,
      "outputs": [
        {
          "output_type": "stream",
          "name": "stdout",
          "text": [
            "tensor(14032.4346, grad_fn=<MseLossBackward0>)\n"
          ]
        }
      ]
    },
    {
      "cell_type": "markdown",
      "source": [
        "### To improve the model use the optimizaers\n",
        "* use SGD called the stochastic gradient descent called stochastic  because samples are selected in batches (often with random shuffling) insted nof the single torch.group_norm"
      ],
      "metadata": {
        "id": "4LnsumM2qUpm"
      }
    },
    {
      "cell_type": "code",
      "source": [
        "# Define the opt\n",
        "opt =  torch.optim.SGD(model.parameters() , lr = 1e-5)"
      ],
      "metadata": {
        "id": "WhzL-KExqwta"
      },
      "execution_count": null,
      "outputs": []
    },
    {
      "cell_type": "markdown",
      "source": [
        "### Train the model\n",
        "* Generate predictions\n",
        "* Calculate the loss\n",
        "* Compute gradient the weights and the biases\n",
        "* Adjust the weights by subtracting a small quantity proportional to gradient\n",
        "* Reset the gradients to zero\n",
        "\n",
        "The only change is that we will work batches of data , insted of processing of"
      ],
      "metadata": {
        "id": "pNbPgsb5sS4F"
      }
    },
    {
      "cell_type": "code",
      "source": [
        "# Utility function to train the model\n",
        "def fit(num_epochs , model , loss_fn , opt ):\n",
        "\n",
        "  # Repeate for the given epochs\n",
        "  for epoch in range(num_epochs):\n",
        "\n",
        "    # Train with batches of data\n",
        "    for xb , yb in train_ds:\n",
        "\n",
        "      # 1. Generate predictions\n",
        "      pred = model(xb)\n",
        "\n",
        "      loss = loss_fn(pred , yb)\n",
        "\n",
        "      # 3 . Compute gradients\n",
        "      loss.backward()\n",
        "\n",
        "      # 4. Update parameters using gradients\n",
        "      opt.step()\n",
        "\n",
        "      # 5. Reset the gradients to zero\n",
        "      opt.zero_grad()\n",
        "\n",
        "    # Print the progress\n",
        "    if (epoch+1) % 10 == 0:\n",
        "      print(\"Epoch [{} / {}] , Loss: {:.4f}\".format(epoch + 1 , num_epochs , loss ))"
      ],
      "metadata": {
        "id": "GVMRh0YKsq6W"
      },
      "execution_count": null,
      "outputs": []
    },
    {
      "cell_type": "markdown",
      "source": [
        "* If we have nan values the reason is the gradient blow up becaue of the large gradient descent"
      ],
      "metadata": {
        "id": "p2aYYfPjzjYL"
      }
    },
    {
      "cell_type": "code",
      "source": [
        "fit(50 ,  model , loss_fn , opt)"
      ],
      "metadata": {
        "colab": {
          "base_uri": "https://localhost:8080/"
        },
        "id": "qw7J5V5Wxfrl",
        "outputId": "09130e3b-2617-42f3-b566-e014408a8f04"
      },
      "execution_count": null,
      "outputs": [
        {
          "output_type": "stream",
          "name": "stdout",
          "text": [
            "Epoch [10 / 50] , Loss: 0.6672\n",
            "Epoch [20 / 50] , Loss: 0.6656\n",
            "Epoch [30 / 50] , Loss: 0.6642\n",
            "Epoch [40 / 50] , Loss: 0.6629\n",
            "Epoch [50 / 50] , Loss: 0.6618\n"
          ]
        }
      ]
    }
  ]
}