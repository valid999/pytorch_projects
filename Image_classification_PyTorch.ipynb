{
  "nbformat": 4,
  "nbformat_minor": 0,
  "metadata": {
    "colab": {
      "provenance": [],
      "authorship_tag": "ABX9TyOrbOJepUghg0ym21fc2etM",
      "include_colab_link": true
    },
    "kernelspec": {
      "name": "python3",
      "display_name": "Python 3"
    },
    "language_info": {
      "name": "python"
    }
  },
  "cells": [
    {
      "cell_type": "markdown",
      "metadata": {
        "id": "view-in-github",
        "colab_type": "text"
      },
      "source": [
        "<a href=\"https://colab.research.google.com/github/valid999/pytorch_projects/blob/main/Image_classification_PyTorch.ipynb\" target=\"_parent\"><img src=\"https://colab.research.google.com/assets/colab-badge.svg\" alt=\"Open In Colab\"/></a>"
      ]
    },
    {
      "cell_type": "markdown",
      "source": [
        "# Image classificatrion using logistic regression\n",
        "* Usidng mnist dataset"
      ],
      "metadata": {
        "id": "D9mdllC7H9dL"
      }
    },
    {
      "cell_type": "markdown",
      "source": [
        "### Exploring the Data"
      ],
      "metadata": {
        "id": "2RU03-07IuYH"
      }
    },
    {
      "cell_type": "code",
      "source": [
        "# Imports\n",
        "import torch\n",
        "import torchvision # Helper library for the compurter vison application\n",
        "from torchvision.datasets import MNIST\n",
        "import matplotlib.pyplot as plt"
      ],
      "metadata": {
        "id": "cgGiYCRdIw_C"
      },
      "execution_count": 113,
      "outputs": []
    },
    {
      "cell_type": "code",
      "source": [
        "# Download Training dataset\n",
        "dataset  = MNIST(root = 'data/' , download = True)"
      ],
      "metadata": {
        "id": "unRLEhgtI8D4"
      },
      "execution_count": 114,
      "outputs": []
    },
    {
      "cell_type": "code",
      "source": [
        "# Check the length of the data\n",
        "len(dataset)"
      ],
      "metadata": {
        "colab": {
          "base_uri": "https://localhost:8080/"
        },
        "id": "0M6msSChJRx5",
        "outputId": "6f20b24d-0186-4f1c-fc86-c171d71c45ab"
      },
      "execution_count": 115,
      "outputs": [
        {
          "output_type": "execute_result",
          "data": {
            "text/plain": [
              "60000"
            ]
          },
          "metadata": {},
          "execution_count": 115
        }
      ]
    },
    {
      "cell_type": "code",
      "source": [
        "# Check the test data\n",
        "test_dataset  = MNIST(root = 'data/' , train =False)\n",
        "len(test_dataset)"
      ],
      "metadata": {
        "colab": {
          "base_uri": "https://localhost:8080/"
        },
        "id": "Q-xRHnv9JZgi",
        "outputId": "3a34e8fe-1d74-4f20-af6c-5c04e4f67268"
      },
      "execution_count": 116,
      "outputs": [
        {
          "output_type": "execute_result",
          "data": {
            "text/plain": [
              "10000"
            ]
          },
          "metadata": {},
          "execution_count": 116
        }
      ]
    },
    {
      "cell_type": "code",
      "source": [
        "# Check the train data\n",
        "train_dataset = MNIST(root = 'data/' , train = True)\n",
        "train_dataset"
      ],
      "metadata": {
        "colab": {
          "base_uri": "https://localhost:8080/"
        },
        "id": "XMH_vjvFJgtO",
        "outputId": "5e17a480-e126-488b-8a60-412bfa79a4e7"
      },
      "execution_count": 117,
      "outputs": [
        {
          "output_type": "execute_result",
          "data": {
            "text/plain": [
              "Dataset MNIST\n",
              "    Number of datapoints: 60000\n",
              "    Root location: data/\n",
              "    Split: Train"
            ]
          },
          "metadata": {},
          "execution_count": 117
        }
      ]
    },
    {
      "cell_type": "code",
      "source": [
        "train_dataset[0]"
      ],
      "metadata": {
        "colab": {
          "base_uri": "https://localhost:8080/"
        },
        "id": "4gyJ26k9KGuv",
        "outputId": "2d989245-b2ac-42eb-ca2f-b351fcefe5f7"
      },
      "execution_count": 118,
      "outputs": [
        {
          "output_type": "execute_result",
          "data": {
            "text/plain": [
              "(<PIL.Image.Image image mode=L size=28x28>, 5)"
            ]
          },
          "metadata": {},
          "execution_count": 118
        }
      ]
    },
    {
      "cell_type": "code",
      "source": [
        "image , label = dataset[0] # Image is the image   label is the number\n",
        "plt.imshow(image)\n",
        "print('Label:' , label)\n",
        "# print('shape' , image.shape) # we can not make the shape for the images without the tensor for the data"
      ],
      "metadata": {
        "colab": {
          "base_uri": "https://localhost:8080/",
          "height": 448
        },
        "id": "8X4WF5CsLrv4",
        "outputId": "87560128-dd07-43d8-d443-d16892dea7c2"
      },
      "execution_count": 119,
      "outputs": [
        {
          "output_type": "stream",
          "name": "stdout",
          "text": [
            "Label: 5\n"
          ]
        },
        {
          "output_type": "display_data",
          "data": {
            "text/plain": [
              "<Figure size 640x480 with 1 Axes>"
            ],
            "image/png": "[encoded data removed]"
          },
          "metadata": {}
        }
      ]
    },
    {
      "cell_type": "code",
      "source": [
        "import matplotlib.pyplot as plt\n",
        "%matplotlib inline"
      ],
      "metadata": {
        "id": "8EdwPRMCLJzW"
      },
      "execution_count": 120,
      "outputs": []
    },
    {
      "cell_type": "code",
      "source": [
        "import torchvision.transforms as transforms"
      ],
      "metadata": {
        "id": "Jgc8Ru3dLOCi"
      },
      "execution_count": 121,
      "outputs": []
    },
    {
      "cell_type": "code",
      "source": [
        "# MNIST dataset (images and labels)\n",
        "dataset = MNIST(root = 'data/',\n",
        "                train = True ,\n",
        "                transform = transforms.ToTensor())\n",
        "dataset"
      ],
      "metadata": {
        "colab": {
          "base_uri": "https://localhost:8080/"
        },
        "id": "IbioheWDM1A1",
        "outputId": "94862ede-bfe5-4bb3-a98a-022958aef953"
      },
      "execution_count": 122,
      "outputs": [
        {
          "output_type": "execute_result",
          "data": {
            "text/plain": [
              "Dataset MNIST\n",
              "    Number of datapoints: 60000\n",
              "    Root location: data/\n",
              "    Split: Train\n",
              "    StandardTransform\n",
              "Transform: ToTensor()"
            ]
          },
          "metadata": {},
          "execution_count": 122
        }
      ]
    },
    {
      "cell_type": "code",
      "source": [
        " img_tensor , label = dataset[0]\n",
        "print(img_tensor.shape , label)"
      ],
      "metadata": {
        "colab": {
          "base_uri": "https://localhost:8080/"
        },
        "id": "cselq8FkPHKI",
        "outputId": "ea1d2566-7832-471e-e6a7-c6f2d023ac32"
      },
      "execution_count": 123,
      "outputs": [
        {
          "output_type": "stream",
          "name": "stdout",
          "text": [
            "torch.Size([1, 28, 28]) 5\n"
          ]
        }
      ]
    },
    {
      "cell_type": "code",
      "source": [
        "print(img_tensor[: , :,: ]) # the dieminsion is the color and height and wedith\n",
        "print(torch.max(img_tensor) , torch.min(img_tensor)) # 1 present the white and zero is the black"
      ],
      "metadata": {
        "colab": {
          "base_uri": "https://localhost:8080/"
        },
        "id": "ZQT36svEPJI1",
        "outputId": "4077ed16-065a-4ad3-fae4-52e87838d35b"
      },
      "execution_count": 124,
      "outputs": [
        {
          "output_type": "stream",
          "name": "stdout",
          "text": [
            "tensor([[[0.0000, 0.0000, 0.0000, 0.0000, 0.0000, 0.0000, 0.0000, 0.0000,\n",
            "          0.0000, 0.0000, 0.0000, 0.0000, 0.0000, 0.0000, 0.0000, 0.0000,\n",
            "          0.0000, 0.0000, 0.0000, 0.0000, 0.0000, 0.0000, 0.0000, 0.0000,\n",
            "          0.0000, 0.0000, 0.0000, 0.0000],\n",
            "         [0.0000, 0.0000, 0.0000, 0.0000, 0.0000, 0.0000, 0.0000, 0.0000,\n",
            "          0.0000, 0.0000, 0.0000, 0.0000, 0.0000, 0.0000, 0.0000, 0.0000,\n",
            "          0.0000, 0.0000, 0.0000, 0.0000, 0.0000, 0.0000, 0.0000, 0.0000,\n",
            "          0.0000, 0.0000, 0.0000, 0.0000],\n",
            "         [0.0000, 0.0000, 0.0000, 0.0000, 0.0000, 0.0000, 0.0000, 0.0000,\n",
            "          0.0000, 0.0000, 0.0000, 0.0000, 0.0000, 0.0000, 0.0000, 0.0000,\n",
            "          0.0000, 0.0000, 0.0000, 0.0000, 0.0000, 0.0000, 0.0000, 0.0000,\n",
            "          0.0000, 0.0000, 0.0000, 0.0000],\n",
            "         [0.0000, 0.0000, 0.0000, 0.0000, 0.0000, 0.0000, 0.0000, 0.0000,\n",
            "          0.0000, 0.0000, 0.0000, 0.0000, 0.0000, 0.0000, 0.0000, 0.0000,\n",
            "          0.0000, 0.0000, 0.0000, 0.0000, 0.0000, 0.0000, 0.0000, 0.0000,\n",
            "          0.0000, 0.0000, 0.0000, 0.0000],\n",
            "         [0.0000, 0.0000, 0.0000, 0.0000, 0.0000, 0.0000, 0.0000, 0.0000,\n",
            "          0.0000, 0.0000, 0.0000, 0.0000, 0.0000, 0.0000, 0.0000, 0.0000,\n",
            "          0.0000, 0.0000, 0.0000, 0.0000, 0.0000, 0.0000, 0.0000, 0.0000,\n",
            "          0.0000, 0.0000, 0.0000, 0.0000],\n",
            "         [0.0000, 0.0000, 0.0000, 0.0000, 0.0000, 0.0000, 0.0000, 0.0000,\n",
            "          0.0000, 0.0000, 0.0000, 0.0000, 0.0118, 0.0706, 0.0706, 0.0706,\n",
            "          0.4941, 0.5333, 0.6863, 0.1020, 0.6510, 1.0000, 0.9686, 0.4980,\n",
            "          0.0000, 0.0000, 0.0000, 0.0000],\n",
            "         [0.0000, 0.0000, 0.0000, 0.0000, 0.0000, 0.0000, 0.0000, 0.0000,\n",
            "          0.1176, 0.1412, 0.3686, 0.6039, 0.6667, 0.9922, 0.9922, 0.9922,\n",
            "          0.9922, 0.9922, 0.8824, 0.6745, 0.9922, 0.9490, 0.7647, 0.2510,\n",
            "          0.0000, 0.0000, 0.0000, 0.0000],\n",
            "         [0.0000, 0.0000, 0.0000, 0.0000, 0.0000, 0.0000, 0.0000, 0.1922,\n",
            "          0.9333, 0.9922, 0.9922, 0.9922, 0.9922, 0.9922, 0.9922, 0.9922,\n",
            "          0.9922, 0.9843, 0.3647, 0.3216, 0.3216, 0.2196, 0.1529, 0.0000,\n",
            "          0.0000, 0.0000, 0.0000, 0.0000],\n",
            "         [0.0000, 0.0000, 0.0000, 0.0000, 0.0000, 0.0000, 0.0000, 0.0706,\n",
            "          0.8588, 0.9922, 0.9922, 0.9922, 0.9922, 0.9922, 0.7765, 0.7137,\n",
            "          0.9686, 0.9451, 0.0000, 0.0000, 0.0000, 0.0000, 0.0000, 0.0000,\n",
            "          0.0000, 0.0000, 0.0000, 0.0000],\n",
            "         [0.0000, 0.0000, 0.0000, 0.0000, 0.0000, 0.0000, 0.0000, 0.0000,\n",
            "          0.3137, 0.6118, 0.4196, 0.9922, 0.9922, 0.8039, 0.0431, 0.0000,\n",
            "          0.1686, 0.6039, 0.0000, 0.0000, 0.0000, 0.0000, 0.0000, 0.0000,\n",
            "          0.0000, 0.0000, 0.0000, 0.0000],\n",
            "         [0.0000, 0.0000, 0.0000, 0.0000, 0.0000, 0.0000, 0.0000, 0.0000,\n",
            "          0.0000, 0.0549, 0.0039, 0.6039, 0.9922, 0.3529, 0.0000, 0.0000,\n",
            "          0.0000, 0.0000, 0.0000, 0.0000, 0.0000, 0.0000, 0.0000, 0.0000,\n",
            "          0.0000, 0.0000, 0.0000, 0.0000],\n",
            "         [0.0000, 0.0000, 0.0000, 0.0000, 0.0000, 0.0000, 0.0000, 0.0000,\n",
            "          0.0000, 0.0000, 0.0000, 0.5451, 0.9922, 0.7451, 0.0078, 0.0000,\n",
            "          0.0000, 0.0000, 0.0000, 0.0000, 0.0000, 0.0000, 0.0000, 0.0000,\n",
            "          0.0000, 0.0000, 0.0000, 0.0000],\n",
            "         [0.0000, 0.0000, 0.0000, 0.0000, 0.0000, 0.0000, 0.0000, 0.0000,\n",
            "          0.0000, 0.0000, 0.0000, 0.0431, 0.7451, 0.9922, 0.2745, 0.0000,\n",
            "          0.0000, 0.0000, 0.0000, 0.0000, 0.0000, 0.0000, 0.0000, 0.0000,\n",
            "          0.0000, 0.0000, 0.0000, 0.0000],\n",
            "         [0.0000, 0.0000, 0.0000, 0.0000, 0.0000, 0.0000, 0.0000, 0.0000,\n",
            "          0.0000, 0.0000, 0.0000, 0.0000, 0.1373, 0.9451, 0.8824, 0.6275,\n",
            "          0.4235, 0.0039, 0.0000, 0.0000, 0.0000, 0.0000, 0.0000, 0.0000,\n",
            "          0.0000, 0.0000, 0.0000, 0.0000],\n",
            "         [0.0000, 0.0000, 0.0000, 0.0000, 0.0000, 0.0000, 0.0000, 0.0000,\n",
            "          0.0000, 0.0000, 0.0000, 0.0000, 0.0000, 0.3176, 0.9412, 0.9922,\n",
            "          0.9922, 0.4667, 0.0980, 0.0000, 0.0000, 0.0000, 0.0000, 0.0000,\n",
            "          0.0000, 0.0000, 0.0000, 0.0000],\n",
            "         [0.0000, 0.0000, 0.0000, 0.0000, 0.0000, 0.0000, 0.0000, 0.0000,\n",
            "          0.0000, 0.0000, 0.0000, 0.0000, 0.0000, 0.0000, 0.1765, 0.7294,\n",
            "          0.9922, 0.9922, 0.5882, 0.1059, 0.0000, 0.0000, 0.0000, 0.0000,\n",
            "          0.0000, 0.0000, 0.0000, 0.0000],\n",
            "         [0.0000, 0.0000, 0.0000, 0.0000, 0.0000, 0.0000, 0.0000, 0.0000,\n",
            "          0.0000, 0.0000, 0.0000, 0.0000, 0.0000, 0.0000, 0.0000, 0.0627,\n",
            "          0.3647, 0.9882, 0.9922, 0.7333, 0.0000, 0.0000, 0.0000, 0.0000,\n",
            "          0.0000, 0.0000, 0.0000, 0.0000],\n",
            "         [0.0000, 0.0000, 0.0000, 0.0000, 0.0000, 0.0000, 0.0000, 0.0000,\n",
            "          0.0000, 0.0000, 0.0000, 0.0000, 0.0000, 0.0000, 0.0000, 0.0000,\n",
            "          0.0000, 0.9765, 0.9922, 0.9765, 0.2510, 0.0000, 0.0000, 0.0000,\n",
            "          0.0000, 0.0000, 0.0000, 0.0000],\n",
            "         [0.0000, 0.0000, 0.0000, 0.0000, 0.0000, 0.0000, 0.0000, 0.0000,\n",
            "          0.0000, 0.0000, 0.0000, 0.0000, 0.0000, 0.0000, 0.1804, 0.5098,\n",
            "          0.7176, 0.9922, 0.9922, 0.8118, 0.0078, 0.0000, 0.0000, 0.0000,\n",
            "          0.0000, 0.0000, 0.0000, 0.0000],\n",
            "         [0.0000, 0.0000, 0.0000, 0.0000, 0.0000, 0.0000, 0.0000, 0.0000,\n",
            "          0.0000, 0.0000, 0.0000, 0.0000, 0.1529, 0.5804, 0.8980, 0.9922,\n",
            "          0.9922, 0.9922, 0.9804, 0.7137, 0.0000, 0.0000, 0.0000, 0.0000,\n",
            "          0.0000, 0.0000, 0.0000, 0.0000],\n",
            "         [0.0000, 0.0000, 0.0000, 0.0000, 0.0000, 0.0000, 0.0000, 0.0000,\n",
            "          0.0000, 0.0000, 0.0941, 0.4471, 0.8667, 0.9922, 0.9922, 0.9922,\n",
            "          0.9922, 0.7882, 0.3059, 0.0000, 0.0000, 0.0000, 0.0000, 0.0000,\n",
            "          0.0000, 0.0000, 0.0000, 0.0000],\n",
            "         [0.0000, 0.0000, 0.0000, 0.0000, 0.0000, 0.0000, 0.0000, 0.0000,\n",
            "          0.0902, 0.2588, 0.8353, 0.9922, 0.9922, 0.9922, 0.9922, 0.7765,\n",
            "          0.3176, 0.0078, 0.0000, 0.0000, 0.0000, 0.0000, 0.0000, 0.0000,\n",
            "          0.0000, 0.0000, 0.0000, 0.0000],\n",
            "         [0.0000, 0.0000, 0.0000, 0.0000, 0.0000, 0.0000, 0.0706, 0.6706,\n",
            "          0.8588, 0.9922, 0.9922, 0.9922, 0.9922, 0.7647, 0.3137, 0.0353,\n",
            "          0.0000, 0.0000, 0.0000, 0.0000, 0.0000, 0.0000, 0.0000, 0.0000,\n",
            "          0.0000, 0.0000, 0.0000, 0.0000],\n",
            "         [0.0000, 0.0000, 0.0000, 0.0000, 0.2157, 0.6745, 0.8863, 0.9922,\n",
            "          0.9922, 0.9922, 0.9922, 0.9569, 0.5216, 0.0431, 0.0000, 0.0000,\n",
            "          0.0000, 0.0000, 0.0000, 0.0000, 0.0000, 0.0000, 0.0000, 0.0000,\n",
            "          0.0000, 0.0000, 0.0000, 0.0000],\n",
            "         [0.0000, 0.0000, 0.0000, 0.0000, 0.5333, 0.9922, 0.9922, 0.9922,\n",
            "          0.8314, 0.5294, 0.5176, 0.0627, 0.0000, 0.0000, 0.0000, 0.0000,\n",
            "          0.0000, 0.0000, 0.0000, 0.0000, 0.0000, 0.0000, 0.0000, 0.0000,\n",
            "          0.0000, 0.0000, 0.0000, 0.0000],\n",
            "         [0.0000, 0.0000, 0.0000, 0.0000, 0.0000, 0.0000, 0.0000, 0.0000,\n",
            "          0.0000, 0.0000, 0.0000, 0.0000, 0.0000, 0.0000, 0.0000, 0.0000,\n",
            "          0.0000, 0.0000, 0.0000, 0.0000, 0.0000, 0.0000, 0.0000, 0.0000,\n",
            "          0.0000, 0.0000, 0.0000, 0.0000],\n",
            "         [0.0000, 0.0000, 0.0000, 0.0000, 0.0000, 0.0000, 0.0000, 0.0000,\n",
            "          0.0000, 0.0000, 0.0000, 0.0000, 0.0000, 0.0000, 0.0000, 0.0000,\n",
            "          0.0000, 0.0000, 0.0000, 0.0000, 0.0000, 0.0000, 0.0000, 0.0000,\n",
            "          0.0000, 0.0000, 0.0000, 0.0000],\n",
            "         [0.0000, 0.0000, 0.0000, 0.0000, 0.0000, 0.0000, 0.0000, 0.0000,\n",
            "          0.0000, 0.0000, 0.0000, 0.0000, 0.0000, 0.0000, 0.0000, 0.0000,\n",
            "          0.0000, 0.0000, 0.0000, 0.0000, 0.0000, 0.0000, 0.0000, 0.0000,\n",
            "          0.0000, 0.0000, 0.0000, 0.0000]]])\n",
            "tensor(1.) tensor(0.)\n"
          ]
        }
      ]
    },
    {
      "cell_type": "code",
      "source": [
        "# Plot the image by p0assing in the 28 X 28 matrix\n",
        "plt.imshow(img_tensor[0] )"
      ],
      "metadata": {
        "colab": {
          "base_uri": "https://localhost:8080/",
          "height": 448
        },
        "id": "xcfrE3IpQ5FN",
        "outputId": "69b98a52-191c-4186-973d-cdf10f7c2448"
      },
      "execution_count": 125,
      "outputs": [
        {
          "output_type": "execute_result",
          "data": {
            "text/plain": [
              "<matplotlib.image.AxesImage at 0x7cae21ddfd60>"
            ]
          },
          "metadata": {},
          "execution_count": 125
        },
        {
          "output_type": "display_data",
          "data": {
            "text/plain": [
              "<Figure size 640x480 with 1 Axes>"
            ],
            "image/png": "[encoded data removed]"
          },
          "metadata": {}
        }
      ]
    },
    {
      "cell_type": "markdown",
      "source": [
        "#### Traidning and validation and test\n",
        "* Training data - used to train the model compute the loss and adjust the weights of thbe model using gradient descent .\n",
        "* Validation set - used to evaluate the model while training and adjust the hyperprameter to get the best model in terms of thed lr and epochs .\n",
        "* Test used to report the final accuracy of the model."
      ],
      "metadata": {
        "id": "0eUxI-pkSnDy"
      }
    },
    {
      "cell_type": "code",
      "source": [
        "import numpy as np\n",
        "\n",
        "def split_indices(n ,  val_pct):\n",
        "  # Determain size of validation\n",
        "  n_val = int(val_pct*n)\n",
        "  # Create random permutation of 0 to n-1\n",
        "  idxs = np.random.permutation(n)\n",
        "  # Pick first n_val indices for the validation set\n",
        "  return idxs[n_val:] , idxs[:n_val] # train test\n"
      ],
      "metadata": {
        "id": "fgvJwBhGgUef"
      },
      "execution_count": 126,
      "outputs": []
    },
    {
      "cell_type": "code",
      "source": [
        "n = 60000\n",
        "val_pct = 0.1\n",
        "\n",
        "n_val = int(val_pct * n)\n",
        "idxs = np.random.permutation(n)\n",
        "len(idxs)\n",
        "\n",
        "train = idxs[n_val:]\n",
        "test = idxs[:n_val]\n",
        "len(train) , len(test)"
      ],
      "metadata": {
        "colab": {
          "base_uri": "https://localhost:8080/"
        },
        "id": "ApGSGcm0jK69",
        "outputId": "2931d39b-ff19-4c90-a604-071d718f4546"
      },
      "execution_count": 127,
      "outputs": [
        {
          "output_type": "execute_result",
          "data": {
            "text/plain": [
              "(54000, 6000)"
            ]
          },
          "metadata": {},
          "execution_count": 127
        }
      ]
    },
    {
      "cell_type": "code",
      "source": [
        "train_indices , val_indices = split_indices(len(dataset) , val_pct = 0.2)\n"
      ],
      "metadata": {
        "id": "0W2K5NU7jdDp"
      },
      "execution_count": 128,
      "outputs": []
    },
    {
      "cell_type": "code",
      "source": [
        "print(len(train_indices) , len(val_indices))\n",
        "print('Sample val indices:' , val_indices[:20])\n"
      ],
      "metadata": {
        "colab": {
          "base_uri": "https://localhost:8080/"
        },
        "id": "eHwZ6o5Ck99n",
        "outputId": "c38402ae-b594-41a2-b732-c9addfc801df"
      },
      "execution_count": 129,
      "outputs": [
        {
          "output_type": "stream",
          "name": "stdout",
          "text": [
            "48000 12000\n",
            "Sample val indices: [20599 50505 25657 49438 15614 14703  2867 22873 35353 40079 33770 42548\n",
            "  5594 40293 41797 13435 16798  5173 38269 25135]\n"
          ]
        }
      ]
    },
    {
      "cell_type": "code",
      "source": [
        "from torch.utils.data.sampler import SubsetRandomSampler\n",
        "from torch.utils.data.dataloader import DataLoader"
      ],
      "metadata": {
        "id": "icxQ_1OemLlX"
      },
      "execution_count": 130,
      "outputs": []
    },
    {
      "cell_type": "code",
      "source": [
        "batch_size = 100  # reduce memory usage and speed up the training process.\n",
        "\n",
        "# Training sampleer anmd the data loader\n",
        "train_sampler = SubsetRandomSampler(train_indices) # using to shuffle the dataset\n",
        "train_loader = DataLoader(dataset ,  # build in class provide flixebl data to the  model to do the training process\n",
        "                          batch_size,\n",
        "                          sampler = train_sampler\n",
        "                          )\n",
        "\n",
        "\n",
        "# Validation sampler and data loader\n",
        "val_sampler = SubsetRandomSampler(val_indices)\n",
        "val_loader = DataLoader(dataset ,\n",
        "                        batch_size ,\n",
        "                        sampler = val_sampler\n",
        "                        )"
      ],
      "metadata": {
        "id": "_p718JuKnTs8"
      },
      "execution_count": 131,
      "outputs": []
    },
    {
      "cell_type": "code",
      "source": [
        "len(train_loader)"
      ],
      "metadata": {
        "colab": {
          "base_uri": "https://localhost:8080/"
        },
        "id": "GVLybilzAKFt",
        "outputId": "041f50ee-a5f3-4b14-9781-255ae3f29dcf"
      },
      "execution_count": 132,
      "outputs": [
        {
          "output_type": "execute_result",
          "data": {
            "text/plain": [
              "480"
            ]
          },
          "metadata": {},
          "execution_count": 132
        }
      ]
    },
    {
      "cell_type": "markdown",
      "source": [
        "### Logastic regression"
      ],
      "metadata": {
        "id": "SNPlTWdk2031"
      }
    },
    {
      "cell_type": "code",
      "source": [
        "import torch.nn as nn\n",
        "\n",
        "input_size = 28*28 # the input is 784\n",
        "num_classes = 10 # the ouput is 10\n",
        "\n",
        "\n",
        "# Logistic regression model\n",
        "model = nn.Linear(input_size , num_classes) # this model can not work we need to get flatten to the neural net"
      ],
      "metadata": {
        "id": "4mYcd6Io24vm"
      },
      "execution_count": 133,
      "outputs": []
    },
    {
      "cell_type": "code",
      "source": [
        "len(model.weight)"
      ],
      "metadata": {
        "colab": {
          "base_uri": "https://localhost:8080/"
        },
        "id": "w9zVMg8F4UNZ",
        "outputId": "162fb710-31c7-47f8-e24c-8b7eabfe9b7f"
      },
      "execution_count": 134,
      "outputs": [
        {
          "output_type": "execute_result",
          "data": {
            "text/plain": [
              "10"
            ]
          },
          "metadata": {},
          "execution_count": 134
        }
      ]
    },
    {
      "cell_type": "code",
      "source": [
        "len(model.bias)"
      ],
      "metadata": {
        "colab": {
          "base_uri": "https://localhost:8080/"
        },
        "id": "afomALLR5DEC",
        "outputId": "c7bd1bce-5def-45a4-cfea-bb9844a277c3"
      },
      "execution_count": 135,
      "outputs": [
        {
          "output_type": "execute_result",
          "data": {
            "text/plain": [
              "10"
            ]
          },
          "metadata": {},
          "execution_count": 135
        }
      ]
    },
    {
      "cell_type": "code",
      "source": [
        "class MnistModel(nn.Module):\n",
        "  def __init__(self):\n",
        "    super().__init__()\n",
        "    self.linear = nn.Linear(input_size , num_classes)\n",
        "\n",
        "\n",
        "  def forward(self , xb):\n",
        "    xb = xb.reshape(-1 , 784)\n",
        "\n",
        "    out = self.linear(xb)\n",
        "    return out # , xb.shape\n",
        "\n",
        "model = MnistModel()"
      ],
      "metadata": {
        "id": "e-nxmgnhvJif"
      },
      "execution_count": 136,
      "outputs": []
    },
    {
      "cell_type": "code",
      "source": [
        "# The snswer is to reshape the dataset\n",
        "for images , labels in train_loader:\n",
        "  # print(labels)\n",
        "  print(images.shape)\n",
        "  outputs = model(images)\n",
        "  break\n",
        "print(outputs.shape) # 100 is inputs and 10 is the output\n",
        "print('sample outputs :\\n' , outputs[:].data) # msut the summition of all the values sum up to one and the range between 0 and 1"
      ],
      "metadata": {
        "colab": {
          "base_uri": "https://localhost:8080/"
        },
        "id": "0IY9eMua5XDN",
        "outputId": "780c4d60-a145-4bf3-93da-1de7c4eefd2e"
      },
      "execution_count": 137,
      "outputs": [
        {
          "output_type": "stream",
          "name": "stdout",
          "text": [
            "torch.Size([100, 1, 28, 28])\n",
            "torch.Size([100, 10])\n",
            "sample outputs :\n",
            " tensor([[ 3.8291e-02, -9.6280e-02, -5.7963e-02,  2.4324e-01, -8.5722e-02,\n",
            "          1.5164e-01, -1.1515e-01, -2.6255e-01, -2.4019e-01,  6.4689e-02],\n",
            "        [-6.8293e-02,  1.5625e-01, -8.5187e-02, -5.0247e-02, -2.9751e-02,\n",
            "         -3.1925e-02,  1.2004e-01, -2.5937e-02,  2.6267e-01,  9.7952e-02],\n",
            "        [ 3.1909e-02, -1.5611e-01, -3.2358e-01,  9.7568e-02,  1.4631e-01,\n",
            "         -2.8334e-02, -1.3281e-01,  5.4909e-02,  5.2678e-02,  2.8005e-02],\n",
            "        [ 9.8668e-02,  6.4150e-02, -5.8989e-02,  8.2016e-02,  1.5378e-01,\n",
            "         -2.3959e-01,  3.6480e-01, -4.5518e-02,  2.1260e-01, -1.2825e-01],\n",
            "        [-1.4780e-03,  2.8213e-01, -2.4362e-01,  4.3339e-02,  9.5685e-02,\n",
            "         -1.1427e-01,  5.9807e-03, -4.3370e-02,  2.7398e-01,  8.6578e-02],\n",
            "        [-1.5636e-01,  3.8225e-01, -9.2760e-02,  2.0146e-01, -7.6593e-02,\n",
            "         -7.8282e-03, -2.7551e-01, -2.4692e-01, -4.3327e-02, -9.8672e-03],\n",
            "        [ 2.1168e-01, -4.3818e-02, -4.1151e-01,  2.6626e-01,  3.2139e-01,\n",
            "         -1.7374e-01, -9.1737e-03,  2.4254e-02,  7.5257e-02, -9.5293e-02],\n",
            "        [ 1.6128e-01, -1.7794e-01, -2.2582e-01,  1.9259e-01,  3.0961e-01,\n",
            "         -1.2932e-01, -1.1555e-01,  6.3971e-02, -1.9954e-02, -1.6316e-01],\n",
            "        [ 1.3880e-02, -4.3999e-02,  1.2425e-01,  1.9540e-01,  8.5214e-02,\n",
            "          2.0843e-01,  7.9211e-02,  4.4229e-03,  1.9433e-01, -1.2617e-02],\n",
            "        [-7.7168e-02,  6.1685e-02, -1.9918e-01,  8.3944e-02, -1.3393e-01,\n",
            "          5.5304e-02,  3.2638e-01, -1.9551e-02,  8.0495e-02, -2.8072e-02],\n",
            "        [ 2.9884e-02, -4.6422e-02, -1.3589e-01,  2.9660e-01,  5.6083e-02,\n",
            "          7.0079e-02,  3.7196e-02, -1.4574e-01,  2.9107e-01,  6.9285e-02],\n",
            "        [ 1.6827e-01,  6.0628e-03, -1.6320e-01,  8.7797e-02,  1.3078e-01,\n",
            "         -7.6912e-02,  2.9555e-01, -8.4022e-02,  6.2855e-02,  1.3910e-01],\n",
            "        [-1.7671e-01,  1.6670e-01, -2.1398e-01,  1.6336e-01,  2.5773e-01,\n",
            "         -1.3221e-01, -1.2171e-01, -3.8101e-02,  1.0267e-01, -3.5500e-02],\n",
            "        [-1.8181e-01,  1.6824e-01, -1.7325e-01, -3.0965e-02,  1.5529e-01,\n",
            "         -2.3600e-01,  2.1479e-01,  7.2419e-02, -6.4136e-02, -1.0064e-01],\n",
            "        [ 2.5167e-01,  1.5788e-01, -2.5445e-01,  4.2786e-01,  1.8016e-01,\n",
            "         -2.8196e-01,  3.1381e-01, -8.3412e-03,  8.4709e-02,  3.4951e-02],\n",
            "        [ 6.0105e-02,  1.2233e-01, -5.5152e-01,  1.4833e-01,  3.5876e-01,\n",
            "         -3.9067e-01, -2.4854e-01, -8.7614e-02, -2.5483e-01, -1.2251e-01],\n",
            "        [-8.8420e-02, -1.1803e-01, -9.0531e-02, -1.0146e-02, -1.7107e-01,\n",
            "         -1.2169e-02,  1.9795e-01, -1.3846e-01,  1.0370e-01,  1.2261e-02],\n",
            "        [ 2.0454e-02, -2.2909e-01, -3.9244e-01,  3.8810e-01,  3.4662e-01,\n",
            "         -2.9752e-01,  3.5662e-01, -7.7001e-02, -2.4225e-01, -3.8745e-01],\n",
            "        [-1.5141e-01, -7.2006e-02, -2.5504e-01,  2.9253e-01,  2.5996e-01,\n",
            "         -2.1095e-01, -7.0751e-03, -9.4872e-02,  4.2852e-01,  1.5018e-01],\n",
            "        [ 2.6395e-01,  2.6280e-02, -4.1769e-02,  4.1658e-01,  2.0295e-01,\n",
            "         -1.2796e-01, -2.2523e-01, -2.5768e-02, -4.9413e-01, -1.9968e-01],\n",
            "        [-3.6996e-02, -1.7121e-01, -3.8033e-01,  4.2964e-01,  2.3325e-01,\n",
            "         -3.2559e-01,  3.1139e-01,  2.0788e-01,  1.0830e-01, -2.1897e-01],\n",
            "        [-1.5085e-01,  3.5771e-02, -1.3603e-01,  6.5590e-02, -2.3369e-02,\n",
            "         -3.2245e-02,  2.2207e-01, -4.9712e-02, -8.6575e-03, -2.7950e-01],\n",
            "        [ 8.6038e-02,  8.6071e-02, -2.1697e-01,  4.8746e-01,  1.2055e-01,\n",
            "         -2.0370e-01,  7.5325e-02,  1.1790e-01, -3.6475e-02,  5.7178e-02],\n",
            "        [-9.4114e-02,  2.3345e-01, -5.0566e-01,  1.0752e-01, -3.4149e-03,\n",
            "         -2.6200e-01,  1.5827e-01, -4.9200e-02,  6.3124e-02, -4.1001e-01],\n",
            "        [-3.9231e-01, -6.5468e-02, -5.5031e-01,  1.0245e-01, -1.5618e-01,\n",
            "         -2.4319e-01, -2.1534e-01,  1.6185e-01, -9.0048e-02,  1.7135e-03],\n",
            "        [-1.4698e-01,  3.4700e-02, -1.4956e-01,  1.2599e-01, -4.7058e-02,\n",
            "         -3.6487e-02,  1.7151e-01,  5.9470e-02, -1.3424e-01, -7.4789e-02],\n",
            "        [-6.4112e-02,  2.2590e-01, -1.6806e-01,  2.8546e-01,  8.8916e-02,\n",
            "         -4.1860e-02,  9.6424e-03, -2.1419e-01,  4.0369e-01,  1.0511e-01],\n",
            "        [-2.1873e-01, -5.9629e-02,  1.1551e-01,  3.3479e-01,  4.8109e-01,\n",
            "          7.0006e-02, -4.7055e-02, -1.4919e-01,  1.5274e-02, -1.1744e-01],\n",
            "        [-4.3676e-02, -1.0781e-02, -1.4807e-01,  1.0587e-01, -4.9012e-02,\n",
            "          9.5963e-02, -3.3138e-04, -2.3141e-01, -2.9055e-01, -8.1581e-02],\n",
            "        [ 1.2384e-01, -2.9441e-01, -3.5038e-01,  2.2226e-01,  5.6279e-01,\n",
            "         -3.0166e-01,  2.8158e-01, -5.7412e-02, -1.5615e-01, -2.7212e-01],\n",
            "        [-2.0602e-02, -1.9846e-01, -2.2703e-01,  2.9013e-01,  3.2199e-01,\n",
            "         -2.5765e-01,  1.5689e-01,  9.3333e-02,  4.2371e-01,  1.2931e-01],\n",
            "        [-1.6864e-02, -8.4839e-03, -3.3849e-01,  1.5788e-01, -4.7554e-02,\n",
            "         -1.8775e-01,  1.3902e-01,  4.4288e-02, -2.2072e-01, -1.1322e-01],\n",
            "        [-9.4892e-03,  2.0089e-01, -1.3708e-01,  4.0964e-01,  1.0723e-01,\n",
            "         -2.4328e-01,  3.2429e-01,  1.9895e-01, -5.7833e-02,  8.5401e-02],\n",
            "        [ 8.2108e-02, -2.0045e-02, -9.1654e-02,  6.0810e-02, -2.4523e-01,\n",
            "         -7.1159e-02,  4.8980e-02,  6.6889e-02,  3.0642e-02, -2.0092e-02],\n",
            "        [-1.0309e-01,  2.0027e-01, -2.1416e-01,  1.5625e-01,  9.7934e-02,\n",
            "         -4.2770e-01,  1.1249e-01, -1.0300e-02,  2.6255e-01, -1.5353e-01],\n",
            "        [ 6.3600e-02,  1.9884e-01, -2.3938e-01,  1.9970e-01,  1.7811e-01,\n",
            "         -1.2390e-01,  2.4984e-01, -1.7697e-01,  2.3087e-01, -9.3362e-02],\n",
            "        [-2.9411e-01, -1.3538e-02, -2.5625e-01,  2.1697e-01,  1.5400e-01,\n",
            "         -1.3349e-01,  8.2182e-04, -1.4327e-02,  1.8426e-01, -2.1001e-02],\n",
            "        [ 1.9972e-01,  4.3738e-01,  8.7293e-02,  1.4030e-01, -9.0440e-02,\n",
            "          1.8307e-01,  7.7930e-02,  5.0672e-02,  2.0587e-01,  1.8264e-01],\n",
            "        [-4.3727e-02,  2.1507e-01, -2.5948e-01,  2.6023e-01,  8.5343e-02,\n",
            "         -2.4451e-01,  3.9287e-02, -1.6542e-02, -1.1221e-01,  4.9876e-02],\n",
            "        [-1.4166e-01,  4.9310e-02, -5.2325e-01,  1.5314e-01, -1.1269e-01,\n",
            "         -1.1897e-01,  6.4187e-02, -3.0447e-02, -1.8281e-01, -1.9408e-01],\n",
            "        [-3.3348e-03, -2.2974e-02, -3.2478e-01,  7.8616e-03, -8.9066e-02,\n",
            "         -8.4522e-02, -1.2222e-01, -1.2047e-01, -1.5929e-01, -1.5426e-01],\n",
            "        [ 5.3464e-02,  1.7413e-01, -2.4453e-01, -6.7436e-03, -8.8164e-02,\n",
            "          1.8950e-01,  2.0135e-01, -1.3124e-01, -1.6266e-02,  6.4979e-02],\n",
            "        [-2.1099e-01,  3.2720e-01, -2.9531e-01,  1.7241e-01,  1.8462e-01,\n",
            "          5.9825e-02, -1.5225e-01, -8.1396e-02,  5.4289e-02, -1.1980e-01],\n",
            "        [-7.6813e-02,  2.4192e-02, -2.5385e-01,  3.8321e-02, -7.5200e-03,\n",
            "         -1.0657e-01,  1.4390e-01,  5.7354e-02, -5.8312e-02, -1.0851e-01],\n",
            "        [-1.1706e-01, -1.2155e-01, -4.2690e-01, -3.1597e-02, -5.0724e-02,\n",
            "          8.4940e-02,  1.2675e-01,  6.9471e-02, -2.2288e-02,  6.2105e-02],\n",
            "        [-1.0681e-01,  1.8061e-02, -5.0805e-01,  3.0731e-01,  9.3226e-02,\n",
            "         -4.5870e-01, -2.5013e-02, -1.0111e-01, -1.6709e-01, -2.8515e-01],\n",
            "        [ 6.0559e-02, -5.0480e-02, -5.4912e-02,  1.6619e-01, -6.1545e-02,\n",
            "         -1.6119e-02,  1.8653e-01,  7.1891e-02, -3.9968e-03,  8.7451e-02],\n",
            "        [-1.6655e-01,  1.9511e-01, -2.6340e-01,  2.8921e-01,  7.8768e-02,\n",
            "         -2.3558e-01,  6.9726e-03,  1.7934e-01, -1.4451e-01, -4.8289e-02],\n",
            "        [ 8.6292e-02,  8.5744e-02, -1.9663e-01,  2.6560e-01,  2.3929e-01,\n",
            "         -1.4659e-01,  2.7080e-01,  6.9180e-02,  3.5992e-01,  1.8338e-01],\n",
            "        [-1.6028e-01,  1.7899e-01, -3.4978e-01,  3.1564e-01,  1.9752e-01,\n",
            "         -4.1388e-01,  2.3503e-01, -3.3230e-02,  5.0319e-01, -7.7425e-02],\n",
            "        [ 4.5369e-02, -1.3226e-01, -1.9376e-01,  2.5522e-01,  1.0883e-01,\n",
            "         -1.0064e-02,  4.0006e-02,  8.5927e-02,  5.3461e-02,  2.2970e-01],\n",
            "        [-3.6934e-02, -2.6228e-01, -3.2177e-01,  1.2202e-01,  2.2899e-01,\n",
            "         -2.6487e-01,  1.2527e-01, -1.4550e-02, -4.5367e-02,  8.4111e-02],\n",
            "        [ 2.0122e-03, -8.6779e-03, -4.8067e-01,  1.4058e-01,  3.2809e-01,\n",
            "         -1.1662e-01, -1.3084e-01, -6.8561e-02,  4.1219e-02,  2.5179e-02],\n",
            "        [ 1.2200e-01, -8.5530e-02, -2.0445e-01,  4.6206e-01,  6.1243e-02,\n",
            "          1.9577e-01,  2.0989e-01,  1.3741e-01, -2.2670e-01,  7.4332e-02],\n",
            "        [ 2.3737e-01,  1.0270e-01, -1.3101e-01,  3.8578e-01,  2.1776e-01,\n",
            "         -1.1953e-01,  5.7652e-02, -1.2646e-01,  1.4297e-01,  2.9292e-02],\n",
            "        [ 1.2222e-01, -9.8285e-02, -2.9434e-01,  2.3872e-01,  5.2036e-01,\n",
            "         -2.1606e-01, -6.4063e-02, -9.3189e-02, -1.8670e-02, -5.4892e-02],\n",
            "        [-9.1571e-02, -9.8652e-02, -2.9834e-01,  3.4406e-01,  4.6007e-01,\n",
            "         -5.2938e-01,  2.1053e-01, -1.6718e-02,  6.6031e-02, -3.4204e-01],\n",
            "        [ 3.1168e-02,  6.8316e-02, -4.6850e-01,  1.6379e-01,  6.3806e-02,\n",
            "         -4.5709e-01,  1.7213e-01,  2.2215e-01,  5.4829e-02,  1.4209e-01],\n",
            "        [-2.2473e-01, -1.5258e-01, -3.9366e-01,  8.3886e-02,  3.3517e-01,\n",
            "         -3.0724e-01, -1.8085e-01, -2.5450e-01,  1.7386e-01, -2.3227e-01],\n",
            "        [ 2.1194e-01, -1.9833e-01, -3.1318e-01,  7.9431e-03, -7.6990e-02,\n",
            "          7.2865e-02, -1.3712e-01, -1.0683e-01, -9.5358e-02, -1.0454e-01],\n",
            "        [-1.2932e-01,  5.3417e-02, -1.7939e-01,  1.1567e-01,  1.9941e-01,\n",
            "          1.5422e-01, -1.2970e-01, -1.1526e-01,  2.4544e-01,  2.2471e-01],\n",
            "        [-1.6781e-01, -1.3523e-01, -2.9105e-01,  3.4482e-01,  2.4411e-01,\n",
            "         -1.2529e-01, -1.1891e-01, -6.1195e-02, -4.7891e-02,  1.9056e-01],\n",
            "        [ 2.0238e-01, -7.8382e-02, -1.5719e-01,  7.5577e-02,  4.1834e-02,\n",
            "          7.5700e-03, -1.2879e-01, -6.9134e-02,  2.2285e-02, -5.1015e-02],\n",
            "        [ 2.2203e-01, -6.3663e-02, -4.2908e-01,  1.4189e-01,  2.8977e-01,\n",
            "         -1.3906e-01,  9.9104e-02, -6.4135e-02, -5.0358e-02, -4.7017e-02],\n",
            "        [ 1.1283e-01,  5.3313e-02, -6.4221e-02,  1.0016e-01, -3.3665e-02,\n",
            "         -2.7302e-01,  2.0721e-01,  1.0701e-01,  1.3584e-01, -1.3590e-01],\n",
            "        [-1.2852e-02, -1.6983e-02, -4.1776e-02,  2.5384e-01,  4.9917e-02,\n",
            "          4.8061e-02, -9.4724e-02, -6.5461e-02, -1.6058e-02, -5.5571e-02],\n",
            "        [ 7.9583e-02, -1.7309e-01,  2.1284e-01,  3.6060e-01,  1.8194e-01,\n",
            "          1.7375e-02,  1.7521e-01,  1.4590e-01,  8.1417e-02,  8.5179e-02],\n",
            "        [ 2.6641e-02, -1.1549e-01, -5.1756e-01,  3.9761e-01,  6.0445e-02,\n",
            "         -2.0997e-01,  2.0869e-01,  9.0725e-03, -3.6579e-01, -5.0194e-02],\n",
            "        [-3.1747e-01, -2.3349e-01, -3.0448e-01,  1.5407e-01,  3.9364e-01,\n",
            "         -1.2339e-01,  1.7158e-01,  8.6161e-02, -1.0208e-01,  3.6786e-02],\n",
            "        [ 2.3413e-02, -3.3321e-02, -2.4689e-01,  3.4339e-02, -5.7722e-02,\n",
            "         -9.7698e-02, -2.6295e-02, -4.6460e-02, -2.5957e-01, -7.2432e-02],\n",
            "        [-9.4671e-02,  2.3286e-01, -3.6777e-01,  3.9218e-01,  3.5015e-01,\n",
            "          1.4562e-02, -2.6257e-01, -1.2346e-01, -2.3174e-01, -2.2372e-01],\n",
            "        [ 1.9155e-01,  1.2001e-01, -2.5881e-01,  2.9905e-01,  2.0261e-02,\n",
            "         -1.1488e-01, -4.2622e-02,  2.6933e-02, -1.5964e-01,  7.4445e-02],\n",
            "        [ 4.3863e-02,  2.3401e-01, -2.9503e-01,  2.4195e-01,  7.8141e-02,\n",
            "         -2.9514e-01,  5.6998e-02,  1.1723e-01,  2.1211e-01,  5.3912e-02],\n",
            "        [-1.1114e-01, -5.5288e-02, -1.4807e-01, -3.3506e-02,  1.5457e-01,\n",
            "         -3.0243e-01,  9.0109e-02, -1.9637e-01,  9.7932e-02, -2.7532e-01],\n",
            "        [ 1.7074e-01,  3.6612e-02, -1.2758e-02,  1.6962e-01,  2.4664e-01,\n",
            "         -2.4117e-01,  1.9241e-01,  7.4754e-02,  2.7191e-01,  5.8045e-02],\n",
            "        [-8.4215e-02,  3.1265e-01, -1.2206e-01,  9.3623e-02,  1.5048e-01,\n",
            "         -3.3576e-02, -4.2861e-01, -2.7527e-01,  2.0222e-01,  1.2867e-02],\n",
            "        [-8.1376e-02,  5.6145e-02, -2.5718e-01,  7.7964e-02,  3.3320e-02,\n",
            "         -1.1222e-01,  5.4515e-02,  1.0323e-01, -1.3738e-01, -8.6102e-02],\n",
            "        [ 1.5552e-02, -2.0340e-01, -3.0981e-01,  5.8772e-01,  3.0606e-01,\n",
            "         -1.2797e-01,  1.2223e-01,  2.1661e-01, -2.8694e-01, -3.9874e-02],\n",
            "        [-1.8486e-01, -1.6226e-01, -3.6419e-01,  1.1450e-01,  9.1452e-02,\n",
            "         -1.5651e-01,  8.9878e-02, -1.5132e-01,  4.1213e-01, -1.4141e-01],\n",
            "        [-7.4555e-02,  2.7404e-02, -7.2954e-02, -3.3404e-02,  1.8465e-01,\n",
            "         -1.4173e-01,  1.0831e-01, -1.6542e-01,  1.2819e-01, -1.1160e-01],\n",
            "        [ 5.0187e-02,  3.8620e-02, -1.7089e-01,  3.2523e-01, -1.0257e-01,\n",
            "          6.8803e-02,  1.1027e-01, -1.8296e-01, -8.9146e-02,  7.8756e-02],\n",
            "        [-2.2974e-01,  3.0516e-02, -3.2141e-01,  1.5348e-01,  5.0358e-01,\n",
            "         -1.1058e-01, -2.3326e-01, -2.6921e-01,  2.8479e-02, -1.5491e-01],\n",
            "        [-2.8672e-02, -2.2342e-02, -2.1546e-01,  2.8976e-02, -6.0243e-02,\n",
            "         -2.8249e-03, -2.5634e-02, -7.3705e-02, -2.6994e-01, -2.6784e-02],\n",
            "        [ 1.0637e-01, -1.0887e-01, -2.4508e-01,  2.0258e-01,  6.5659e-02,\n",
            "          7.2434e-02, -8.1129e-02, -4.1444e-02, -5.8414e-02, -5.8356e-03],\n",
            "        [-1.4227e-01,  1.4837e-01, -4.1029e-01,  1.2250e-01, -3.5372e-02,\n",
            "         -2.1504e-01,  1.6139e-01, -5.3345e-02, -3.3836e-01, -2.2139e-01],\n",
            "        [-1.5781e-01, -1.1039e-01, -3.4604e-01,  3.4369e-02,  1.3208e-01,\n",
            "         -1.1968e-01,  1.3600e-01, -4.1538e-02,  6.5414e-02, -1.5374e-01],\n",
            "        [ 9.4678e-02,  1.0285e-02, -5.0619e-02,  2.8232e-01,  4.3629e-01,\n",
            "         -2.4818e-01,  6.0281e-03,  5.0177e-02,  2.5832e-01,  7.5062e-02],\n",
            "        [ 2.0921e-01,  1.5453e-01, -6.1061e-02,  4.6734e-01,  3.2005e-01,\n",
            "         -3.4967e-02,  3.6141e-02, -5.4300e-02,  3.4568e-01,  3.5612e-01],\n",
            "        [-5.8118e-02,  1.0509e-01, -3.4879e-01,  2.3788e-01,  2.8109e-01,\n",
            "         -5.0667e-02, -1.4894e-02,  2.3005e-02,  5.4489e-01,  2.2801e-01],\n",
            "        [-3.6278e-01,  1.8872e-02, -4.5169e-01,  3.2595e-01,  1.9880e-02,\n",
            "         -3.2540e-01, -2.0546e-01,  1.8810e-02, -2.2931e-02, -3.1572e-01],\n",
            "        [ 3.1024e-02, -2.0206e-01, -1.2146e-01,  5.8113e-01,  2.8289e-02,\n",
            "         -3.5317e-01, -3.1372e-02,  1.5109e-01,  1.2724e-01,  2.0189e-02],\n",
            "        [-1.2190e-01, -1.0227e-01, -3.0800e-01,  3.4040e-01,  1.2683e-01,\n",
            "         -1.3659e-01, -1.2488e-01, -2.2464e-01, -1.7079e-01, -1.4693e-01],\n",
            "        [ 6.6795e-02,  1.6327e-02, -4.9828e-03,  2.2863e-01, -5.0539e-02,\n",
            "         -1.2829e-01, -9.7561e-02,  1.5873e-01,  3.2946e-01,  2.1642e-01],\n",
            "        [ 9.0767e-02,  4.6570e-02,  1.7512e-01,  1.8532e-01,  1.7588e-01,\n",
            "          1.0049e-01, -1.3084e-01, -2.1547e-01, -4.1883e-02,  1.6486e-01],\n",
            "        [ 1.2795e-01,  3.2516e-02, -2.8688e-02,  2.5862e-01, -3.0848e-02,\n",
            "         -1.0655e-01, -2.2748e-02, -7.0186e-02, -9.6320e-02,  2.2338e-03],\n",
            "        [ 3.3819e-02, -2.9896e-02, -3.6750e-01,  3.4532e-01,  1.8973e-01,\n",
            "          6.7088e-02, -1.4090e-01, -1.3394e-01,  1.1370e-01, -1.5710e-01],\n",
            "        [-1.1258e-01,  1.2457e-01, -4.1327e-01,  1.3388e-01, -1.8402e-01,\n",
            "         -1.8376e-01,  2.6430e-01, -8.7963e-02, -2.3074e-01, -1.8245e-01],\n",
            "        [ 4.1330e-02, -2.1988e-02, -2.8314e-01,  1.8807e-01, -8.1125e-02,\n",
            "          9.4718e-02, -3.0137e-01,  2.0980e-02, -2.8734e-01, -4.7298e-02],\n",
            "        [-6.6078e-02, -1.4885e-03, -1.7161e-01,  1.7379e-01,  1.0837e-02,\n",
            "          1.3978e-02, -8.0370e-02, -1.6567e-02, -6.8565e-02, -1.2143e-01],\n",
            "        [-2.3645e-01,  1.5319e-02, -2.2107e-01, -4.7461e-02,  1.4260e-01,\n",
            "         -7.1918e-02, -7.2713e-02, -1.5792e-01, -9.0136e-02, -1.8906e-01]])\n"
          ]
        }
      ]
    },
    {
      "cell_type": "markdown",
      "source": [
        "![image.png](data:image/png;base64,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)"
      ],
      "metadata": {
        "id": "bEZyDDO0EZf1"
      }
    },
    {
      "cell_type": "markdown",
      "source": [
        "### SOFTMAX()\n",
        "\n",
        "We use the softmax to get the probabilites to each value and return all .\n",
        "![image.png](data:image/png;base64,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)"
      ],
      "metadata": {
        "id": "8pMmxnQ9J52n"
      }
    },
    {
      "cell_type": "code",
      "source": [
        "import torch.nn.functional as F"
      ],
      "metadata": {
        "id": "R_hRRLuEK7Dm"
      },
      "execution_count": 138,
      "outputs": []
    },
    {
      "cell_type": "code",
      "source": [
        "# Apply softmax for eachoutput row\n",
        "probs = F.softmax(outputs , dim = 1 )\n",
        "\n",
        "\n",
        "# Look at sample probabilites\n",
        "print('Sample probabilites:\\n',probs[:2].data)\n",
        "\n",
        "# Add up the probabilites of an output row\n",
        "print(\"Sum: \" , torch.sum(probs[98]).item())"
      ],
      "metadata": {
        "colab": {
          "base_uri": "https://localhost:8080/"
        },
        "id": "lgSY6lMWK_Df",
        "outputId": "5204f299-ae53-4585-d270-579a40d81882"
      },
      "execution_count": 139,
      "outputs": [
        {
          "output_type": "stream",
          "name": "stdout",
          "text": [
            "Sample probabilites:\n",
            " tensor([[0.1064, 0.0930, 0.0967, 0.1307, 0.0940, 0.1192, 0.0913, 0.0788, 0.0806,\n",
            "         0.1093],\n",
            "        [0.0897, 0.1122, 0.0882, 0.0913, 0.0932, 0.0930, 0.1082, 0.0935, 0.1248,\n",
            "         0.1059]])\n",
            "Sum:  1.0\n"
          ]
        }
      ]
    },
    {
      "cell_type": "code",
      "source": [
        "# Get the max position and probabilites of the model\n",
        "\n",
        "max_probs , preds = torch.max(probs , dim = 1)\n",
        "print(preds)\n",
        "print(max_probs)"
      ],
      "metadata": {
        "colab": {
          "base_uri": "https://localhost:8080/"
        },
        "id": "aXb8lWZDMzOw",
        "outputId": "64118eb1-afff-41a1-db11-14eccd7b0bd3"
      },
      "execution_count": 140,
      "outputs": [
        {
          "output_type": "stream",
          "name": "stdout",
          "text": [
            "tensor([3, 8, 4, 6, 1, 1, 4, 4, 5, 6, 3, 6, 4, 6, 3, 4, 6, 3, 8, 3, 3, 6, 3, 1,\n",
            "        7, 6, 8, 4, 3, 4, 8, 3, 3, 0, 8, 6, 3, 1, 3, 3, 3, 6, 1, 6, 6, 3, 6, 3,\n",
            "        8, 8, 3, 4, 4, 3, 3, 4, 4, 7, 4, 0, 8, 3, 0, 4, 6, 3, 3, 3, 4, 3, 3, 3,\n",
            "        3, 4, 8, 1, 7, 3, 8, 4, 3, 4, 3, 3, 6, 6, 4, 3, 8, 3, 3, 3, 8, 3, 3, 3,\n",
            "        6, 3, 3, 4])\n",
            "tensor([0.1307, 0.1248, 0.1174, 0.1351, 0.1261, 0.1486, 0.1328, 0.1356, 0.1127,\n",
            "        0.1352, 0.1264, 0.1259, 0.1282, 0.1247, 0.1369, 0.1524, 0.1250, 0.1483,\n",
            "        0.1447, 0.1500, 0.1460, 0.1283, 0.1510, 0.1328, 0.1331, 0.1204, 0.1381,\n",
            "        0.1515, 0.1178, 0.1719, 0.1386, 0.1229, 0.1354, 0.1098, 0.1285, 0.1204,\n",
            "        0.1248, 0.1325, 0.1284, 0.1274, 0.1117, 0.1188, 0.1371, 0.1189, 0.1172,\n",
            "        0.1497, 0.1155, 0.1327, 0.1251, 0.1529, 0.1219, 0.1286, 0.1400, 0.1445,\n",
            "        0.1340, 0.1631, 0.1562, 0.1218, 0.1529, 0.1318, 0.1208, 0.1408, 0.1235,\n",
            "        0.1317, 0.1194, 0.1277, 0.1265, 0.1525, 0.1481, 0.1114, 0.1477, 0.1311,\n",
            "        0.1199, 0.1248, 0.1180, 0.1361, 0.1141, 0.1684, 0.1544, 0.1213, 0.1352,\n",
            "        0.1704, 0.1099, 0.1227, 0.1273, 0.1200, 0.1388, 0.1318, 0.1527, 0.1536,\n",
            "        0.1696, 0.1507, 0.1278, 0.1129, 0.1279, 0.1398, 0.1394, 0.1275, 0.1224,\n",
            "        0.1258], grad_fn=<MaxBackward0>)\n"
          ]
        }
      ]
    },
    {
      "cell_type": "code",
      "source": [
        "labels"
      ],
      "metadata": {
        "colab": {
          "base_uri": "https://localhost:8080/"
        },
        "id": "-iBQcfeRNCMq",
        "outputId": "a6513455-2edf-4a1d-b6c3-3698eaca7c6b"
      },
      "execution_count": 141,
      "outputs": [
        {
          "output_type": "execute_result",
          "data": {
            "text/plain": [
              "tensor([7, 3, 1, 6, 0, 0, 5, 2, 9, 8, 0, 8, 0, 8, 8, 6, 0, 6, 3, 4, 8, 3, 8, 2,\n",
              "        8, 1, 3, 3, 5, 6, 5, 1, 8, 8, 5, 0, 3, 3, 8, 1, 1, 2, 0, 1, 8, 2, 5, 1,\n",
              "        5, 5, 4, 2, 6, 9, 9, 2, 6, 8, 0, 5, 0, 2, 1, 8, 5, 9, 4, 4, 2, 1, 0, 7,\n",
              "        3, 0, 3, 0, 1, 4, 0, 3, 7, 0, 1, 1, 1, 6, 4, 5, 0, 8, 4, 2, 5, 7, 9, 6,\n",
              "        1, 5, 9, 0])"
            ]
          },
          "metadata": {},
          "execution_count": 141
        }
      ]
    },
    {
      "cell_type": "code",
      "source": [
        "#  class MnistModel(nn.Module):\n",
        "#   def __init__(self):\n",
        "#     super().__init__()\n",
        "#     self.linear = nn.Linear(input_size , num_classes)\n",
        "\n",
        "\n",
        "#   def forward(self , xb):\n",
        "#     xb = xb.reshape(-1 , 784)\n",
        "\n",
        "#     out = self.linear(xb)\n",
        "#     return out # , xb.shape\n",
        "\n",
        "# model = MnistModel()"
      ],
      "metadata": {
        "id": "UGTYX3tQ6Ljs"
      },
      "execution_count": 142,
      "outputs": []
    },
    {
      "cell_type": "code",
      "source": [
        "print(model.linear.weight.shape , model.linear.bias.shape)\n",
        "list(model.parameters())"
      ],
      "metadata": {
        "colab": {
          "base_uri": "https://localhost:8080/"
        },
        "id": "7SeD7L4LAHrR",
        "outputId": "1bd7482c-be77-43c9-ea6b-b651cb5b50fc"
      },
      "execution_count": 143,
      "outputs": [
        {
          "output_type": "stream",
          "name": "stdout",
          "text": [
            "torch.Size([10, 784]) torch.Size([10])\n"
          ]
        },
        {
          "output_type": "execute_result",
          "data": {
            "text/plain": [
              "[Parameter containing:\n",
              " tensor([[-1.1985e-02, -2.7364e-02,  1.6728e-02,  ..., -2.6093e-02,\n",
              "           2.5054e-02,  2.6827e-02],\n",
              "         [ 5.9432e-03, -1.9619e-02,  5.9212e-04,  ...,  1.6559e-02,\n",
              "          -4.3488e-03,  4.0060e-03],\n",
              "         [ 1.4347e-02,  2.4218e-02, -1.8800e-02,  ..., -2.9365e-02,\n",
              "           2.2741e-02,  2.7586e-02],\n",
              "         ...,\n",
              "         [-1.8839e-02, -3.9921e-03, -2.2357e-02,  ...,  1.3803e-02,\n",
              "          -6.8175e-03, -2.2706e-02],\n",
              "         [ 5.7807e-03, -2.5522e-02,  1.9320e-02,  ...,  1.7776e-03,\n",
              "           2.4682e-02, -5.4227e-05],\n",
              "         [-3.0487e-02, -7.8764e-03, -2.9670e-02,  ..., -3.0807e-02,\n",
              "          -2.3176e-02, -2.8391e-02]], requires_grad=True),\n",
              " Parameter containing:\n",
              " tensor([ 0.0230, -0.0022, -0.0008,  0.0072,  0.0260, -0.0157,  0.0083,  0.0027,\n",
              "         -0.0316, -0.0193], requires_grad=True)]"
            ]
          },
          "metadata": {},
          "execution_count": 143
        }
      ]
    },
    {
      "cell_type": "code",
      "source": [
        "print(len(model.linear.weight))"
      ],
      "metadata": {
        "colab": {
          "base_uri": "https://localhost:8080/"
        },
        "id": "zdHHxHbIkNsK",
        "outputId": "93d79e23-3d8a-463c-e331-55afff30dfb2"
      },
      "execution_count": 144,
      "outputs": [
        {
          "output_type": "stream",
          "name": "stdout",
          "text": [
            "10\n"
          ]
        }
      ]
    },
    {
      "cell_type": "code",
      "source": [
        "# Get the accuracy of the predictions\n",
        "torch.sum(labels == preds).item() / len(labels)"
      ],
      "metadata": {
        "colab": {
          "base_uri": "https://localhost:8080/"
        },
        "id": "CIGBgpauDj0G",
        "outputId": "a0ef71b5-0838-4797-a5dd-8001860327cc"
      },
      "execution_count": 145,
      "outputs": [
        {
          "output_type": "execute_result",
          "data": {
            "text/plain": [
              "0.05"
            ]
          },
          "metadata": {},
          "execution_count": 145
        }
      ]
    },
    {
      "cell_type": "code",
      "source": [
        "def accuracy(l1 , l2):\n",
        "  return torch.sum(l1 == l2).item() / len(l1)\n",
        "\n",
        "\n",
        "accuracy(preds , labels)"
      ],
      "metadata": {
        "colab": {
          "base_uri": "https://localhost:8080/"
        },
        "id": "MywqTj4FQR0h",
        "outputId": "550bb939-1b07-47e7-d6ea-f92c9072dd88"
      },
      "execution_count": 146,
      "outputs": [
        {
          "output_type": "execute_result",
          "data": {
            "text/plain": [
              "0.05"
            ]
          },
          "metadata": {},
          "execution_count": 146
        }
      ]
    },
    {
      "cell_type": "code",
      "source": [
        "# cross entropy is continous and differentiable function that also provides good feedback for incremental improvements in the model\n",
        "# higher probabilites leads to the correct predictions\n",
        "loss_fn  = F.cross_entropy\n"
      ],
      "metadata": {
        "id": "7bLp4y7wQ9cY"
      },
      "execution_count": 147,
      "outputs": []
    },
    {
      "cell_type": "code",
      "source": [
        "# Loss for current batch of data\n",
        "loss = loss_fn(outputs , labels)\n",
        "loss"
      ],
      "metadata": {
        "colab": {
          "base_uri": "https://localhost:8080/"
        },
        "id": "RxDorh79iPad",
        "outputId": "3a20d05f-ea40-4971-b6f0-799a5539b516"
      },
      "execution_count": 148,
      "outputs": [
        {
          "output_type": "execute_result",
          "data": {
            "text/plain": [
              "tensor(2.3477, grad_fn=<NllLossBackward0>)"
            ]
          },
          "metadata": {},
          "execution_count": 148
        }
      ]
    },
    {
      "cell_type": "markdown",
      "source": [
        "#### Optimizer"
      ],
      "metadata": {
        "id": "4TcFRMjUiW2q"
      }
    },
    {
      "cell_type": "code",
      "source": [
        "learning_rate = 0.001\n",
        "optimizer = torch.optim.SGD(model.parameters() , lr = learning_rate)"
      ],
      "metadata": {
        "id": "8FA-AkbvmK3g"
      },
      "execution_count": 149,
      "outputs": []
    },
    {
      "cell_type": "code",
      "source": [
        "### Training the model\n",
        "def loss_batch(model , loss_func , xb , yb , opt = None , metric = None):\n",
        "\n",
        "  # Calculate loss\n",
        "  preds = model(xb)\n",
        "  loss = loss_func(preds , yb)\n",
        "\n",
        "  if opt is not None:\n",
        "    # Compute gradients\n",
        "    loss.backward()\n",
        "    # Update parameters\n",
        "    opt.step()\n",
        "    # Reset gradients\n",
        "    opt.zero_grad()\n",
        "\n",
        "\n",
        "  metric_result = None\n",
        "  if metric is not None:\n",
        "    # Compute the metric\n",
        "    metric_result = metric(preds , yb)\n",
        "\n",
        "  return loss.item() , len(xb) , metric_result"
      ],
      "metadata": {
        "id": "zc8zXyqGmZfA"
      },
      "execution_count": 150,
      "outputs": []
    },
    {
      "cell_type": "code",
      "source": [
        "def evaluate(model , loss_fn , valid_dl , metric = None):\n",
        "\n",
        "  with torch.no_grad(): # we don't need this  for the validation dataset just applied for the gradient descent\n",
        "    results = [loss_batch(model , loss_fn , xb , yb , metric = metric)\n",
        "    for xb , yb , in valid_dl]\n",
        "\n",
        "    # Seprates the lossess , counts and metrics\n",
        "    losses , nums , metrics = zip(*results) # we use zip to seprate to three list\n",
        "    # Total size of the dataset\n",
        "    total = np.sum(nums)  # Nums\n",
        "    # Avg loss across batches\n",
        "    avg_loss = np.sum(np.multiply(losses , nums)) / total # the nums of the data set\n",
        "    avg_metric = None\n",
        "    if metric is not None:\n",
        "      # Acg of metric across batches\n",
        "      avg_metric = np.sum(np.multiply(metrics , nums)) / total\n",
        "  return avg_loss , total , avg_metric"
      ],
      "metadata": {
        "id": "U7-Pue_WpXPk"
      },
      "execution_count": 151,
      "outputs": []
    },
    {
      "cell_type": "code",
      "source": [
        "def accuracy(outputs , labels):\n",
        "\n",
        "  _ , preds = torch.max(outputs , dim = 1 ) # _ value , preds index\n",
        "  return torch.sum(preds == labels).item() / len(preds)"
      ],
      "metadata": {
        "id": "1MadsqV-sD2u"
      },
      "execution_count": 152,
      "outputs": []
    },
    {
      "cell_type": "code",
      "source": [
        "val_loss , total , val_acc = evaluate(model , loss_fn , val_loader , metric = accuracy)\n",
        "print('Loss: {:.4f}, total: {:.4f} , Accuracy: {:.4f}'.format(val_loss , total ,  val_acc))"
      ],
      "metadata": {
        "colab": {
          "base_uri": "https://localhost:8080/"
        },
        "id": "sTMI6zDDtG8X",
        "outputId": "11ae8862-6d1f-4423-e3dc-2c767a656b49"
      },
      "execution_count": 153,
      "outputs": [
        {
          "output_type": "stream",
          "name": "stdout",
          "text": [
            "Loss: 2.3263, total: 12000.0000 , Accuracy: 0.0833\n"
          ]
        }
      ]
    },
    {
      "cell_type": "markdown",
      "source": [
        "* The cross entropy formula"
      ],
      "metadata": {
        "id": "xKhYaaltEryz"
      }
    },
    {
      "cell_type": "markdown",
      "source": [
        "![image.png](data:image/png;base64,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)"
      ],
      "metadata": {
        "id": "R5fXAPJHDrgn"
      }
    },
    {
      "cell_type": "code",
      "source": [
        "outputs"
      ],
      "metadata": {
        "colab": {
          "base_uri": "https://localhost:8080/"
        },
        "id": "LS02vqyCQG5j",
        "outputId": "c472d701-6985-48da-b68b-21aff18ccf6f"
      },
      "execution_count": 154,
      "outputs": [
        {
          "output_type": "execute_result",
          "data": {
            "text/plain": [
              "tensor([[ 3.8291e-02, -9.6280e-02, -5.7963e-02,  2.4324e-01, -8.5722e-02,\n",
              "          1.5164e-01, -1.1515e-01, -2.6255e-01, -2.4019e-01,  6.4689e-02],\n",
              "        [-6.8293e-02,  1.5625e-01, -8.5187e-02, -5.0247e-02, -2.9751e-02,\n",
              "         -3.1925e-02,  1.2004e-01, -2.5937e-02,  2.6267e-01,  9.7952e-02],\n",
              "        [ 3.1909e-02, -1.5611e-01, -3.2358e-01,  9.7568e-02,  1.4631e-01,\n",
              "         -2.8334e-02, -1.3281e-01,  5.4909e-02,  5.2678e-02,  2.8005e-02],\n",
              "        [ 9.8668e-02,  6.4150e-02, -5.8989e-02,  8.2016e-02,  1.5378e-01,\n",
              "         -2.3959e-01,  3.6480e-01, -4.5518e-02,  2.1260e-01, -1.2825e-01],\n",
              "        [-1.4780e-03,  2.8213e-01, -2.4362e-01,  4.3339e-02,  9.5685e-02,\n",
              "         -1.1427e-01,  5.9807e-03, -4.3370e-02,  2.7398e-01,  8.6578e-02],\n",
              "        [-1.5636e-01,  3.8225e-01, -9.2760e-02,  2.0146e-01, -7.6593e-02,\n",
              "         -7.8282e-03, -2.7551e-01, -2.4692e-01, -4.3327e-02, -9.8672e-03],\n",
              "        [ 2.1168e-01, -4.3818e-02, -4.1151e-01,  2.6626e-01,  3.2139e-01,\n",
              "         -1.7374e-01, -9.1737e-03,  2.4254e-02,  7.5257e-02, -9.5293e-02],\n",
              "        [ 1.6128e-01, -1.7794e-01, -2.2582e-01,  1.9259e-01,  3.0961e-01,\n",
              "         -1.2932e-01, -1.1555e-01,  6.3971e-02, -1.9954e-02, -1.6316e-01],\n",
              "        [ 1.3880e-02, -4.3999e-02,  1.2425e-01,  1.9540e-01,  8.5214e-02,\n",
              "          2.0843e-01,  7.9211e-02,  4.4229e-03,  1.9433e-01, -1.2617e-02],\n",
              "        [-7.7168e-02,  6.1685e-02, -1.9918e-01,  8.3944e-02, -1.3393e-01,\n",
              "          5.5304e-02,  3.2638e-01, -1.9551e-02,  8.0495e-02, -2.8072e-02],\n",
              "        [ 2.9884e-02, -4.6422e-02, -1.3589e-01,  2.9660e-01,  5.6083e-02,\n",
              "          7.0079e-02,  3.7196e-02, -1.4574e-01,  2.9107e-01,  6.9285e-02],\n",
              "        [ 1.6827e-01,  6.0628e-03, -1.6320e-01,  8.7797e-02,  1.3078e-01,\n",
              "         -7.6912e-02,  2.9555e-01, -8.4022e-02,  6.2855e-02,  1.3910e-01],\n",
              "        [-1.7671e-01,  1.6670e-01, -2.1398e-01,  1.6336e-01,  2.5773e-01,\n",
              "         -1.3221e-01, -1.2171e-01, -3.8101e-02,  1.0267e-01, -3.5500e-02],\n",
              "        [-1.8181e-01,  1.6824e-01, -1.7325e-01, -3.0965e-02,  1.5529e-01,\n",
              "         -2.3600e-01,  2.1479e-01,  7.2419e-02, -6.4136e-02, -1.0064e-01],\n",
              "        [ 2.5167e-01,  1.5788e-01, -2.5445e-01,  4.2786e-01,  1.8016e-01,\n",
              "         -2.8196e-01,  3.1381e-01, -8.3412e-03,  8.4709e-02,  3.4951e-02],\n",
              "        [ 6.0105e-02,  1.2233e-01, -5.5152e-01,  1.4833e-01,  3.5876e-01,\n",
              "         -3.9067e-01, -2.4854e-01, -8.7614e-02, -2.5483e-01, -1.2251e-01],\n",
              "        [-8.8420e-02, -1.1803e-01, -9.0531e-02, -1.0146e-02, -1.7107e-01,\n",
              "         -1.2169e-02,  1.9795e-01, -1.3846e-01,  1.0370e-01,  1.2261e-02],\n",
              "        [ 2.0454e-02, -2.2909e-01, -3.9244e-01,  3.8810e-01,  3.4662e-01,\n",
              "         -2.9752e-01,  3.5662e-01, -7.7001e-02, -2.4225e-01, -3.8745e-01],\n",
              "        [-1.5141e-01, -7.2006e-02, -2.5504e-01,  2.9253e-01,  2.5996e-01,\n",
              "         -2.1095e-01, -7.0751e-03, -9.4872e-02,  4.2852e-01,  1.5018e-01],\n",
              "        [ 2.6395e-01,  2.6280e-02, -4.1769e-02,  4.1658e-01,  2.0295e-01,\n",
              "         -1.2796e-01, -2.2523e-01, -2.5768e-02, -4.9413e-01, -1.9968e-01],\n",
              "        [-3.6996e-02, -1.7121e-01, -3.8033e-01,  4.2964e-01,  2.3325e-01,\n",
              "         -3.2559e-01,  3.1139e-01,  2.0788e-01,  1.0830e-01, -2.1897e-01],\n",
              "        [-1.5085e-01,  3.5771e-02, -1.3603e-01,  6.5590e-02, -2.3369e-02,\n",
              "         -3.2245e-02,  2.2207e-01, -4.9712e-02, -8.6575e-03, -2.7950e-01],\n",
              "        [ 8.6038e-02,  8.6071e-02, -2.1697e-01,  4.8746e-01,  1.2055e-01,\n",
              "         -2.0370e-01,  7.5325e-02,  1.1790e-01, -3.6475e-02,  5.7178e-02],\n",
              "        [-9.4114e-02,  2.3345e-01, -5.0566e-01,  1.0752e-01, -3.4149e-03,\n",
              "         -2.6200e-01,  1.5827e-01, -4.9200e-02,  6.3124e-02, -4.1001e-01],\n",
              "        [-3.9231e-01, -6.5468e-02, -5.5031e-01,  1.0245e-01, -1.5618e-01,\n",
              "         -2.4319e-01, -2.1534e-01,  1.6185e-01, -9.0048e-02,  1.7135e-03],\n",
              "        [-1.4698e-01,  3.4700e-02, -1.4956e-01,  1.2599e-01, -4.7058e-02,\n",
              "         -3.6487e-02,  1.7151e-01,  5.9470e-02, -1.3424e-01, -7.4789e-02],\n",
              "        [-6.4112e-02,  2.2590e-01, -1.6806e-01,  2.8546e-01,  8.8916e-02,\n",
              "         -4.1860e-02,  9.6424e-03, -2.1419e-01,  4.0369e-01,  1.0511e-01],\n",
              "        [-2.1873e-01, -5.9629e-02,  1.1551e-01,  3.3479e-01,  4.8109e-01,\n",
              "          7.0006e-02, -4.7055e-02, -1.4919e-01,  1.5274e-02, -1.1744e-01],\n",
              "        [-4.3676e-02, -1.0781e-02, -1.4807e-01,  1.0587e-01, -4.9012e-02,\n",
              "          9.5963e-02, -3.3138e-04, -2.3141e-01, -2.9055e-01, -8.1581e-02],\n",
              "        [ 1.2384e-01, -2.9441e-01, -3.5038e-01,  2.2226e-01,  5.6279e-01,\n",
              "         -3.0166e-01,  2.8158e-01, -5.7412e-02, -1.5615e-01, -2.7212e-01],\n",
              "        [-2.0602e-02, -1.9846e-01, -2.2703e-01,  2.9013e-01,  3.2199e-01,\n",
              "         -2.5765e-01,  1.5689e-01,  9.3333e-02,  4.2371e-01,  1.2931e-01],\n",
              "        [-1.6864e-02, -8.4839e-03, -3.3849e-01,  1.5788e-01, -4.7554e-02,\n",
              "         -1.8775e-01,  1.3902e-01,  4.4288e-02, -2.2072e-01, -1.1322e-01],\n",
              "        [-9.4892e-03,  2.0089e-01, -1.3708e-01,  4.0964e-01,  1.0723e-01,\n",
              "         -2.4328e-01,  3.2429e-01,  1.9895e-01, -5.7833e-02,  8.5401e-02],\n",
              "        [ 8.2108e-02, -2.0045e-02, -9.1654e-02,  6.0810e-02, -2.4523e-01,\n",
              "         -7.1159e-02,  4.8980e-02,  6.6889e-02,  3.0642e-02, -2.0092e-02],\n",
              "        [-1.0309e-01,  2.0027e-01, -2.1416e-01,  1.5625e-01,  9.7934e-02,\n",
              "         -4.2770e-01,  1.1249e-01, -1.0300e-02,  2.6255e-01, -1.5353e-01],\n",
              "        [ 6.3600e-02,  1.9884e-01, -2.3938e-01,  1.9970e-01,  1.7811e-01,\n",
              "         -1.2390e-01,  2.4984e-01, -1.7697e-01,  2.3087e-01, -9.3362e-02],\n",
              "        [-2.9411e-01, -1.3538e-02, -2.5625e-01,  2.1697e-01,  1.5400e-01,\n",
              "         -1.3349e-01,  8.2182e-04, -1.4327e-02,  1.8426e-01, -2.1001e-02],\n",
              "        [ 1.9972e-01,  4.3738e-01,  8.7293e-02,  1.4030e-01, -9.0440e-02,\n",
              "          1.8307e-01,  7.7930e-02,  5.0672e-02,  2.0587e-01,  1.8264e-01],\n",
              "        [-4.3727e-02,  2.1507e-01, -2.5948e-01,  2.6023e-01,  8.5343e-02,\n",
              "         -2.4451e-01,  3.9287e-02, -1.6542e-02, -1.1221e-01,  4.9876e-02],\n",
              "        [-1.4166e-01,  4.9310e-02, -5.2325e-01,  1.5314e-01, -1.1269e-01,\n",
              "         -1.1897e-01,  6.4187e-02, -3.0447e-02, -1.8281e-01, -1.9408e-01],\n",
              "        [-3.3348e-03, -2.2974e-02, -3.2478e-01,  7.8616e-03, -8.9066e-02,\n",
              "         -8.4522e-02, -1.2222e-01, -1.2047e-01, -1.5929e-01, -1.5426e-01],\n",
              "        [ 5.3464e-02,  1.7413e-01, -2.4453e-01, -6.7436e-03, -8.8164e-02,\n",
              "          1.8950e-01,  2.0135e-01, -1.3124e-01, -1.6266e-02,  6.4979e-02],\n",
              "        [-2.1099e-01,  3.2720e-01, -2.9531e-01,  1.7241e-01,  1.8462e-01,\n",
              "          5.9825e-02, -1.5225e-01, -8.1396e-02,  5.4289e-02, -1.1980e-01],\n",
              "        [-7.6813e-02,  2.4192e-02, -2.5385e-01,  3.8321e-02, -7.5200e-03,\n",
              "         -1.0657e-01,  1.4390e-01,  5.7354e-02, -5.8312e-02, -1.0851e-01],\n",
              "        [-1.1706e-01, -1.2155e-01, -4.2690e-01, -3.1597e-02, -5.0724e-02,\n",
              "          8.4940e-02,  1.2675e-01,  6.9471e-02, -2.2288e-02,  6.2105e-02],\n",
              "        [-1.0681e-01,  1.8061e-02, -5.0805e-01,  3.0731e-01,  9.3226e-02,\n",
              "         -4.5870e-01, -2.5013e-02, -1.0111e-01, -1.6709e-01, -2.8515e-01],\n",
              "        [ 6.0559e-02, -5.0480e-02, -5.4912e-02,  1.6619e-01, -6.1545e-02,\n",
              "         -1.6119e-02,  1.8653e-01,  7.1891e-02, -3.9968e-03,  8.7451e-02],\n",
              "        [-1.6655e-01,  1.9511e-01, -2.6340e-01,  2.8921e-01,  7.8768e-02,\n",
              "         -2.3558e-01,  6.9726e-03,  1.7934e-01, -1.4451e-01, -4.8289e-02],\n",
              "        [ 8.6292e-02,  8.5744e-02, -1.9663e-01,  2.6560e-01,  2.3929e-01,\n",
              "         -1.4659e-01,  2.7080e-01,  6.9180e-02,  3.5992e-01,  1.8338e-01],\n",
              "        [-1.6028e-01,  1.7899e-01, -3.4978e-01,  3.1564e-01,  1.9752e-01,\n",
              "         -4.1388e-01,  2.3503e-01, -3.3230e-02,  5.0319e-01, -7.7425e-02],\n",
              "        [ 4.5369e-02, -1.3226e-01, -1.9376e-01,  2.5522e-01,  1.0883e-01,\n",
              "         -1.0064e-02,  4.0006e-02,  8.5927e-02,  5.3461e-02,  2.2970e-01],\n",
              "        [-3.6934e-02, -2.6228e-01, -3.2177e-01,  1.2202e-01,  2.2899e-01,\n",
              "         -2.6487e-01,  1.2527e-01, -1.4550e-02, -4.5367e-02,  8.4111e-02],\n",
              "        [ 2.0122e-03, -8.6779e-03, -4.8067e-01,  1.4058e-01,  3.2809e-01,\n",
              "         -1.1662e-01, -1.3084e-01, -6.8561e-02,  4.1219e-02,  2.5179e-02],\n",
              "        [ 1.2200e-01, -8.5530e-02, -2.0445e-01,  4.6206e-01,  6.1243e-02,\n",
              "          1.9577e-01,  2.0989e-01,  1.3741e-01, -2.2670e-01,  7.4332e-02],\n",
              "        [ 2.3737e-01,  1.0270e-01, -1.3101e-01,  3.8578e-01,  2.1776e-01,\n",
              "         -1.1953e-01,  5.7652e-02, -1.2646e-01,  1.4297e-01,  2.9292e-02],\n",
              "        [ 1.2222e-01, -9.8285e-02, -2.9434e-01,  2.3872e-01,  5.2036e-01,\n",
              "         -2.1606e-01, -6.4063e-02, -9.3189e-02, -1.8670e-02, -5.4892e-02],\n",
              "        [-9.1571e-02, -9.8652e-02, -2.9834e-01,  3.4406e-01,  4.6007e-01,\n",
              "         -5.2938e-01,  2.1053e-01, -1.6718e-02,  6.6031e-02, -3.4204e-01],\n",
              "        [ 3.1168e-02,  6.8316e-02, -4.6850e-01,  1.6379e-01,  6.3806e-02,\n",
              "         -4.5709e-01,  1.7213e-01,  2.2215e-01,  5.4829e-02,  1.4209e-01],\n",
              "        [-2.2473e-01, -1.5258e-01, -3.9366e-01,  8.3886e-02,  3.3517e-01,\n",
              "         -3.0724e-01, -1.8085e-01, -2.5450e-01,  1.7386e-01, -2.3227e-01],\n",
              "        [ 2.1194e-01, -1.9833e-01, -3.1318e-01,  7.9431e-03, -7.6990e-02,\n",
              "          7.2865e-02, -1.3712e-01, -1.0683e-01, -9.5358e-02, -1.0454e-01],\n",
              "        [-1.2932e-01,  5.3417e-02, -1.7939e-01,  1.1567e-01,  1.9941e-01,\n",
              "          1.5422e-01, -1.2970e-01, -1.1526e-01,  2.4544e-01,  2.2471e-01],\n",
              "        [-1.6781e-01, -1.3523e-01, -2.9105e-01,  3.4482e-01,  2.4411e-01,\n",
              "         -1.2529e-01, -1.1891e-01, -6.1195e-02, -4.7891e-02,  1.9056e-01],\n",
              "        [ 2.0238e-01, -7.8382e-02, -1.5719e-01,  7.5577e-02,  4.1834e-02,\n",
              "          7.5700e-03, -1.2879e-01, -6.9134e-02,  2.2285e-02, -5.1015e-02],\n",
              "        [ 2.2203e-01, -6.3663e-02, -4.2908e-01,  1.4189e-01,  2.8977e-01,\n",
              "         -1.3906e-01,  9.9104e-02, -6.4135e-02, -5.0358e-02, -4.7017e-02],\n",
              "        [ 1.1283e-01,  5.3313e-02, -6.4221e-02,  1.0016e-01, -3.3665e-02,\n",
              "         -2.7302e-01,  2.0721e-01,  1.0701e-01,  1.3584e-01, -1.3590e-01],\n",
              "        [-1.2852e-02, -1.6983e-02, -4.1776e-02,  2.5384e-01,  4.9917e-02,\n",
              "          4.8061e-02, -9.4724e-02, -6.5461e-02, -1.6058e-02, -5.5571e-02],\n",
              "        [ 7.9583e-02, -1.7309e-01,  2.1284e-01,  3.6060e-01,  1.8194e-01,\n",
              "          1.7375e-02,  1.7521e-01,  1.4590e-01,  8.1417e-02,  8.5179e-02],\n",
              "        [ 2.6641e-02, -1.1549e-01, -5.1756e-01,  3.9761e-01,  6.0445e-02,\n",
              "         -2.0997e-01,  2.0869e-01,  9.0725e-03, -3.6579e-01, -5.0194e-02],\n",
              "        [-3.1747e-01, -2.3349e-01, -3.0448e-01,  1.5407e-01,  3.9364e-01,\n",
              "         -1.2339e-01,  1.7158e-01,  8.6161e-02, -1.0208e-01,  3.6786e-02],\n",
              "        [ 2.3413e-02, -3.3321e-02, -2.4689e-01,  3.4339e-02, -5.7722e-02,\n",
              "         -9.7698e-02, -2.6295e-02, -4.6460e-02, -2.5957e-01, -7.2432e-02],\n",
              "        [-9.4671e-02,  2.3286e-01, -3.6777e-01,  3.9218e-01,  3.5015e-01,\n",
              "          1.4562e-02, -2.6257e-01, -1.2346e-01, -2.3174e-01, -2.2372e-01],\n",
              "        [ 1.9155e-01,  1.2001e-01, -2.5881e-01,  2.9905e-01,  2.0261e-02,\n",
              "         -1.1488e-01, -4.2622e-02,  2.6933e-02, -1.5964e-01,  7.4445e-02],\n",
              "        [ 4.3863e-02,  2.3401e-01, -2.9503e-01,  2.4195e-01,  7.8141e-02,\n",
              "         -2.9514e-01,  5.6998e-02,  1.1723e-01,  2.1211e-01,  5.3912e-02],\n",
              "        [-1.1114e-01, -5.5288e-02, -1.4807e-01, -3.3506e-02,  1.5457e-01,\n",
              "         -3.0243e-01,  9.0109e-02, -1.9637e-01,  9.7932e-02, -2.7532e-01],\n",
              "        [ 1.7074e-01,  3.6612e-02, -1.2758e-02,  1.6962e-01,  2.4664e-01,\n",
              "         -2.4117e-01,  1.9241e-01,  7.4754e-02,  2.7191e-01,  5.8045e-02],\n",
              "        [-8.4215e-02,  3.1265e-01, -1.2206e-01,  9.3623e-02,  1.5048e-01,\n",
              "         -3.3576e-02, -4.2861e-01, -2.7527e-01,  2.0222e-01,  1.2867e-02],\n",
              "        [-8.1376e-02,  5.6145e-02, -2.5718e-01,  7.7964e-02,  3.3320e-02,\n",
              "         -1.1222e-01,  5.4515e-02,  1.0323e-01, -1.3738e-01, -8.6102e-02],\n",
              "        [ 1.5552e-02, -2.0340e-01, -3.0981e-01,  5.8772e-01,  3.0606e-01,\n",
              "         -1.2797e-01,  1.2223e-01,  2.1661e-01, -2.8694e-01, -3.9874e-02],\n",
              "        [-1.8486e-01, -1.6226e-01, -3.6419e-01,  1.1450e-01,  9.1452e-02,\n",
              "         -1.5651e-01,  8.9878e-02, -1.5132e-01,  4.1213e-01, -1.4141e-01],\n",
              "        [-7.4555e-02,  2.7404e-02, -7.2954e-02, -3.3404e-02,  1.8465e-01,\n",
              "         -1.4173e-01,  1.0831e-01, -1.6542e-01,  1.2819e-01, -1.1160e-01],\n",
              "        [ 5.0187e-02,  3.8620e-02, -1.7089e-01,  3.2523e-01, -1.0257e-01,\n",
              "          6.8803e-02,  1.1027e-01, -1.8296e-01, -8.9146e-02,  7.8756e-02],\n",
              "        [-2.2974e-01,  3.0516e-02, -3.2141e-01,  1.5348e-01,  5.0358e-01,\n",
              "         -1.1058e-01, -2.3326e-01, -2.6921e-01,  2.8479e-02, -1.5491e-01],\n",
              "        [-2.8672e-02, -2.2342e-02, -2.1546e-01,  2.8976e-02, -6.0243e-02,\n",
              "         -2.8249e-03, -2.5634e-02, -7.3705e-02, -2.6994e-01, -2.6784e-02],\n",
              "        [ 1.0637e-01, -1.0887e-01, -2.4508e-01,  2.0258e-01,  6.5659e-02,\n",
              "          7.2434e-02, -8.1129e-02, -4.1444e-02, -5.8414e-02, -5.8356e-03],\n",
              "        [-1.4227e-01,  1.4837e-01, -4.1029e-01,  1.2250e-01, -3.5372e-02,\n",
              "         -2.1504e-01,  1.6139e-01, -5.3345e-02, -3.3836e-01, -2.2139e-01],\n",
              "        [-1.5781e-01, -1.1039e-01, -3.4604e-01,  3.4369e-02,  1.3208e-01,\n",
              "         -1.1968e-01,  1.3600e-01, -4.1538e-02,  6.5414e-02, -1.5374e-01],\n",
              "        [ 9.4678e-02,  1.0285e-02, -5.0619e-02,  2.8232e-01,  4.3629e-01,\n",
              "         -2.4818e-01,  6.0281e-03,  5.0177e-02,  2.5832e-01,  7.5062e-02],\n",
              "        [ 2.0921e-01,  1.5453e-01, -6.1061e-02,  4.6734e-01,  3.2005e-01,\n",
              "         -3.4967e-02,  3.6141e-02, -5.4300e-02,  3.4568e-01,  3.5612e-01],\n",
              "        [-5.8118e-02,  1.0509e-01, -3.4879e-01,  2.3788e-01,  2.8109e-01,\n",
              "         -5.0667e-02, -1.4894e-02,  2.3005e-02,  5.4489e-01,  2.2801e-01],\n",
              "        [-3.6278e-01,  1.8872e-02, -4.5169e-01,  3.2595e-01,  1.9880e-02,\n",
              "         -3.2540e-01, -2.0546e-01,  1.8810e-02, -2.2931e-02, -3.1572e-01],\n",
              "        [ 3.1024e-02, -2.0206e-01, -1.2146e-01,  5.8113e-01,  2.8289e-02,\n",
              "         -3.5317e-01, -3.1372e-02,  1.5109e-01,  1.2724e-01,  2.0189e-02],\n",
              "        [-1.2190e-01, -1.0227e-01, -3.0800e-01,  3.4040e-01,  1.2683e-01,\n",
              "         -1.3659e-01, -1.2488e-01, -2.2464e-01, -1.7079e-01, -1.4693e-01],\n",
              "        [ 6.6795e-02,  1.6327e-02, -4.9828e-03,  2.2863e-01, -5.0539e-02,\n",
              "         -1.2829e-01, -9.7561e-02,  1.5873e-01,  3.2946e-01,  2.1642e-01],\n",
              "        [ 9.0767e-02,  4.6570e-02,  1.7512e-01,  1.8532e-01,  1.7588e-01,\n",
              "          1.0049e-01, -1.3084e-01, -2.1547e-01, -4.1883e-02,  1.6486e-01],\n",
              "        [ 1.2795e-01,  3.2516e-02, -2.8688e-02,  2.5862e-01, -3.0848e-02,\n",
              "         -1.0655e-01, -2.2748e-02, -7.0186e-02, -9.6320e-02,  2.2338e-03],\n",
              "        [ 3.3819e-02, -2.9896e-02, -3.6750e-01,  3.4532e-01,  1.8973e-01,\n",
              "          6.7088e-02, -1.4090e-01, -1.3394e-01,  1.1370e-01, -1.5710e-01],\n",
              "        [-1.1258e-01,  1.2457e-01, -4.1327e-01,  1.3388e-01, -1.8402e-01,\n",
              "         -1.8376e-01,  2.6430e-01, -8.7963e-02, -2.3074e-01, -1.8245e-01],\n",
              "        [ 4.1330e-02, -2.1988e-02, -2.8314e-01,  1.8807e-01, -8.1125e-02,\n",
              "          9.4718e-02, -3.0137e-01,  2.0980e-02, -2.8734e-01, -4.7298e-02],\n",
              "        [-6.6078e-02, -1.4885e-03, -1.7161e-01,  1.7379e-01,  1.0837e-02,\n",
              "          1.3978e-02, -8.0370e-02, -1.6567e-02, -6.8565e-02, -1.2143e-01],\n",
              "        [-2.3645e-01,  1.5319e-02, -2.2107e-01, -4.7461e-02,  1.4260e-01,\n",
              "         -7.1918e-02, -7.2713e-02, -1.5792e-01, -9.0136e-02, -1.8906e-01]],\n",
              "       grad_fn=<AddmmBackward0>)"
            ]
          },
          "metadata": {},
          "execution_count": 154
        }
      ]
    },
    {
      "cell_type": "code",
      "source": [
        "loss_fn = F.cross_entropy"
      ],
      "metadata": {
        "id": "SzSAwXsEumOc"
      },
      "execution_count": 155,
      "outputs": []
    },
    {
      "cell_type": "code",
      "source": [
        "# Loss for current batch of the data\n",
        "loss = loss_fn(outputs , labels)\n",
        "print(loss)"
      ],
      "metadata": {
        "colab": {
          "base_uri": "https://localhost:8080/"
        },
        "id": "dpu4mWBcE24Q",
        "outputId": "dac62b47-8f90-457b-b1dc-f9ad18a0f44c"
      },
      "execution_count": 156,
      "outputs": [
        {
          "output_type": "stream",
          "name": "stdout",
          "text": [
            "tensor(2.3477, grad_fn=<NllLossBackward0>)\n"
          ]
        }
      ]
    },
    {
      "cell_type": "markdown",
      "source": [
        "# The    nn.model is the logistic regression model"
      ],
      "metadata": {
        "id": "zZGIa10eH8TT"
      }
    },
    {
      "cell_type": "code",
      "source": [
        "def fit(epochs, lr, model, train_loader, val_loader, opt_func=torch.optim.SGD):\n",
        "    optimizer = opt_func(model.parameters(), lr)\n",
        "    history = [] # for recording epoch-wise results\n",
        "\n",
        "    for epoch in range(epochs):\n",
        "\n",
        "        # Training Phase\n",
        "        for batch in train_loader:\n",
        "            loss = model.training_step(batch)\n",
        "            loss.backward()\n",
        "            optimizer.step()\n",
        "            optimizer.zero_grad()\n",
        "\n",
        "        # Validation phase\n",
        "        result = evaluate(model, val_loader)\n",
        "        model.epoch_end(epoch, result)\n",
        "        history.append(result)\n",
        "\n",
        "    return history\n",
        "\n",
        "\n",
        "\n"
      ],
      "metadata": {
        "id": "1XnpK_1vFOi_"
      },
      "execution_count": 157,
      "outputs": []
    },
    {
      "cell_type": "code",
      "source": [
        "def evaluate(model, val_loader):\n",
        "    outputs = [model.validation_step(batch) for batch in val_loader]\n",
        "    return model.validation_epoch_end(outputs)"
      ],
      "metadata": {
        "id": "HgnDGfJ2GrqJ"
      },
      "execution_count": 158,
      "outputs": []
    },
    {
      "cell_type": "code",
      "source": [
        "import numpy as np\n",
        "\n",
        "class MnistModel(nn.Module):\n",
        "    def __init__(self):\n",
        "        super().__init__()\n",
        "        self.linear = nn.Linear(input_size, num_classes)\n",
        "\n",
        "    def forward(self, xb):\n",
        "        xb = xb.reshape(-1, 784)\n",
        "        out = self.linear(xb)\n",
        "        return out\n",
        "\n",
        "    def training_step(self, batch):\n",
        "        images, labels = batch\n",
        "        out = self(images)                  # Generate predictions\n",
        "        loss = F.cross_entropy(out, labels) # Calculate loss\n",
        "        return loss\n",
        "\n",
        "    def validation_step(self, batch):\n",
        "        images, labels = batch\n",
        "        out = self(images)                    # Generate predictions\n",
        "        loss = F.cross_entropy(out, labels)   # Calculate loss\n",
        "        acc = accuracy(out, labels)           # Calculate accuracy\n",
        "        return {'val_loss': loss, 'val_acc': acc}\n",
        "\n",
        "    def validation_epoch_end(self, outputs):\n",
        "        batch_losses = [x['val_loss'] for x in outputs]\n",
        "        epoch_loss = torch.tensor(batch_losses  ).mean()  # Combine losses\n",
        "        batch_accs = [x['val_acc'] for x in outputs]\n",
        "        epoch_acc = torch.tensor(batch_accs ).mean()      # Combine accuracies\n",
        "        return {'val_loss': epoch_loss.item(), 'val_acc': epoch_acc.item()}\n",
        "\n",
        "    def epoch_end(self, epoch, result):\n",
        "        print(\"Epoch [{}], val_loss: {:.4f}, val_acc: {:.4f}\".format(epoch, result['val_loss'], result['val_acc']))\n",
        "\n",
        "model = MnistModel()"
      ],
      "metadata": {
        "id": "tnlDjXpiSleM"
      },
      "execution_count": 209,
      "outputs": []
    },
    {
      "cell_type": "code",
      "source": [
        "result0 = evaluate(model, val_loader)\n",
        "result0"
      ],
      "metadata": {
        "colab": {
          "base_uri": "https://localhost:8080/"
        },
        "id": "FIDQVxhlOjHj",
        "outputId": "e513f503-e0c6-4884-f26c-d459e558f5d2"
      },
      "execution_count": 229,
      "outputs": [
        {
          "output_type": "execute_result",
          "data": {
            "text/plain": [
              "{'val_loss': 0.6995033621788025, 'val_acc': 0.8486666083335876}"
            ]
          },
          "metadata": {},
          "execution_count": 229
        }
      ]
    },
    {
      "cell_type": "code",
      "source": [
        "history1 = fit(10, 0.001, model, train_loader, val_loader)"
      ],
      "metadata": {
        "colab": {
          "base_uri": "https://localhost:8080/"
        },
        "id": "TwplOIo5O2Y2",
        "outputId": "72f85141-6438-4375-8d13-a284c5919d7a"
      },
      "execution_count": 230,
      "outputs": [
        {
          "output_type": "stream",
          "name": "stdout",
          "text": [
            "Epoch [0], val_loss: 0.6822, val_acc: 0.8502\n",
            "Epoch [1], val_loss: 0.6666, val_acc: 0.8520\n",
            "Epoch [2], val_loss: 0.6524, val_acc: 0.8540\n",
            "Epoch [3], val_loss: 0.6394, val_acc: 0.8556\n",
            "Epoch [4], val_loss: 0.6276, val_acc: 0.8570\n",
            "Epoch [5], val_loss: 0.6166, val_acc: 0.8586\n",
            "Epoch [6], val_loss: 0.6066, val_acc: 0.8597\n",
            "Epoch [7], val_loss: 0.5972, val_acc: 0.8611\n",
            "Epoch [8], val_loss: 0.5885, val_acc: 0.8627\n",
            "Epoch [9], val_loss: 0.5804, val_acc: 0.8638\n"
          ]
        }
      ]
    },
    {
      "cell_type": "code",
      "source": [
        "history3 = fit(10, 0.001, model, train_loader, val_loader)"
      ],
      "metadata": {
        "colab": {
          "base_uri": "https://localhost:8080/"
        },
        "id": "4WePr_SHPw7Z",
        "outputId": "14f4f467-6165-4e75-abba-f64c964b7a31"
      },
      "execution_count": 231,
      "outputs": [
        {
          "output_type": "stream",
          "name": "stdout",
          "text": [
            "Epoch [0], val_loss: 0.5727, val_acc: 0.8646\n",
            "Epoch [1], val_loss: 0.5656, val_acc: 0.8657\n",
            "Epoch [2], val_loss: 0.5589, val_acc: 0.8667\n",
            "Epoch [3], val_loss: 0.5526, val_acc: 0.8675\n",
            "Epoch [4], val_loss: 0.5466, val_acc: 0.8688\n",
            "Epoch [5], val_loss: 0.5409, val_acc: 0.8692\n",
            "Epoch [6], val_loss: 0.5356, val_acc: 0.8697\n",
            "Epoch [7], val_loss: 0.5305, val_acc: 0.8707\n",
            "Epoch [8], val_loss: 0.5256, val_acc: 0.8711\n",
            "Epoch [9], val_loss: 0.5210, val_acc: 0.8721\n"
          ]
        }
      ]
    },
    {
      "cell_type": "code",
      "source": [
        "history4 = fit(20, 0.003, model, train_loader, val_loader)"
      ],
      "metadata": {
        "colab": {
          "base_uri": "https://localhost:8080/"
        },
        "id": "LuToe4lSdfjz",
        "outputId": "05059dad-ce97-41c7-dbe5-ed248d839ce7"
      },
      "execution_count": 245,
      "outputs": [
        {
          "output_type": "stream",
          "name": "stdout",
          "text": [
            "Epoch [0], val_loss: 0.3600, val_acc: 0.9013\n",
            "Epoch [1], val_loss: 0.3590, val_acc: 0.9016\n",
            "Epoch [2], val_loss: 0.3581, val_acc: 0.9016\n",
            "Epoch [3], val_loss: 0.3571, val_acc: 0.9019\n",
            "Epoch [4], val_loss: 0.3562, val_acc: 0.9019\n",
            "Epoch [5], val_loss: 0.3554, val_acc: 0.9018\n",
            "Epoch [6], val_loss: 0.3545, val_acc: 0.9021\n",
            "Epoch [7], val_loss: 0.3536, val_acc: 0.9027\n",
            "Epoch [8], val_loss: 0.3529, val_acc: 0.9027\n",
            "Epoch [9], val_loss: 0.3521, val_acc: 0.9030\n",
            "Epoch [10], val_loss: 0.3513, val_acc: 0.9032\n",
            "Epoch [11], val_loss: 0.3505, val_acc: 0.9033\n",
            "Epoch [12], val_loss: 0.3498, val_acc: 0.9035\n",
            "Epoch [13], val_loss: 0.3491, val_acc: 0.9037\n",
            "Epoch [14], val_loss: 0.3484, val_acc: 0.9037\n",
            "Epoch [15], val_loss: 0.3477, val_acc: 0.9038\n",
            "Epoch [16], val_loss: 0.3470, val_acc: 0.9036\n",
            "Epoch [17], val_loss: 0.3464, val_acc: 0.9038\n",
            "Epoch [18], val_loss: 0.3457, val_acc: 0.9041\n",
            "Epoch [19], val_loss: 0.3450, val_acc: 0.9045\n"
          ]
        }
      ]
    },
    {
      "cell_type": "markdown",
      "source": [
        "### this for the accuracy"
      ],
      "metadata": {
        "id": "WJLqTUUYbyVy"
      }
    },
    {
      "cell_type": "code",
      "source": [
        "history = [result0] + history1 + history3 + history4\n",
        "accuracies = [result['val_acc'] for result in history]\n",
        "plt.plot(accuracies, '-x')\n",
        "plt.xlabel('epoch')\n",
        "plt.ylabel('accuracy')\n",
        "plt.title('Accuracy vs. No. of epochs');"
      ],
      "metadata": {
        "colab": {
          "base_uri": "https://localhost:8080/",
          "height": 472
        },
        "id": "SAJ_og8xbEb7",
        "outputId": "86643929-a7ea-4112-875f-52a3ed7a4e36"
      },
      "execution_count": 246,
      "outputs": [
        {
          "output_type": "display_data",
          "data": {
            "text/plain": [
              "<Figure size 640x480 with 1 Axes>"
            ],
            "image/png": "[encoded data removed]"
          },
          "metadata": {}
        }
      ]
    },
    {
      "cell_type": "markdown",
      "source": [
        "# The loss function"
      ],
      "metadata": {
        "id": "I635Yc2rb5s-"
      }
    },
    {
      "cell_type": "code",
      "source": [
        "history = [result0] + history1 + history3 + history4\n",
        "accuracies = [result['val_loss'] for result in history]\n",
        "plt.plot(accuracies, '-x')\n",
        "plt.xlabel('epoch')\n",
        "plt.ylabel('loss')\n",
        "plt.title('loss vs. No. of epochs');"
      ],
      "metadata": {
        "colab": {
          "base_uri": "https://localhost:8080/",
          "height": 472
        },
        "id": "DZ0DO0Bgb5Qc",
        "outputId": "6509a471-35db-4d34-88a1-825207c98631"
      },
      "execution_count": 247,
      "outputs": [
        {
          "output_type": "display_data",
          "data": {
            "text/plain": [
              "<Figure size 640x480 with 1 Axes>"
            ],
            "image/png": "[encoded data removed]"
          },
          "metadata": {}
        }
      ]
    },
    {
      "cell_type": "markdown",
      "source": [
        "# Using the test data"
      ],
      "metadata": {
        "id": "dLpurtmKbGBG"
      }
    },
    {
      "cell_type": "code",
      "source": [
        "# Define test dataset\n",
        "test_dataset = MNIST(root='data/',\n",
        "                     train=False,\n",
        "                     transform=transforms.ToTensor())"
      ],
      "metadata": {
        "id": "M9_gIeILbRM8"
      },
      "execution_count": 248,
      "outputs": []
    },
    {
      "cell_type": "code",
      "source": [
        "img, label = test_dataset[0]\n",
        "plt.imshow(img[0], cmap='gray') # img is 28 * 28 thats why will we use the unsqueezed\n",
        "print('Shape:', img.shape)\n",
        "print('Label:', label)"
      ],
      "metadata": {
        "colab": {
          "base_uri": "https://localhost:8080/",
          "height": 467
        },
        "id": "b3OL0jBEbSSJ",
        "outputId": "258cb26d-fd70-4dfa-a4af-2b779e560463"
      },
      "execution_count": 249,
      "outputs": [
        {
          "output_type": "stream",
          "name": "stdout",
          "text": [
            "Shape: torch.Size([1, 28, 28])\n",
            "Label: 7\n"
          ]
        },
        {
          "output_type": "display_data",
          "data": {
            "text/plain": [
              "<Figure size 640x480 with 1 Axes>"
            ],
            "image/png": "[encoded data removed]"
          },
          "metadata": {}
        }
      ]
    },
    {
      "cell_type": "code",
      "source": [
        "def predict_image(img, model):\n",
        "    xb = img.unsqueeze(0)\n",
        "    yb = model(xb)\n",
        "    _, preds = torch.max(yb, dim=1)\n",
        "    return preds[0].item()"
      ],
      "metadata": {
        "id": "bQ3CMZWQbUuP"
      },
      "execution_count": 250,
      "outputs": []
    },
    {
      "cell_type": "code",
      "source": [
        "img, label = test_dataset[0]\n",
        "plt.imshow(img[0], cmap='gray')\n",
        "print('Label:', label, ', Predicted:', predict_image(img, model))"
      ],
      "metadata": {
        "colab": {
          "base_uri": "https://localhost:8080/",
          "height": 448
        },
        "id": "YXdWvaCgcUEV",
        "outputId": "cf97aec8-373f-493f-83bf-4aace0f29fe5"
      },
      "execution_count": 251,
      "outputs": [
        {
          "output_type": "stream",
          "name": "stdout",
          "text": [
            "Label: 7 , Predicted: 7\n"
          ]
        },
        {
          "output_type": "display_data",
          "data": {
            "text/plain": [
              "<Figure size 640x480 with 1 Axes>"
            ],
            "image/png": "[encoded data removed]"
          },
          "metadata": {}
        }
      ]
    },
    {
      "cell_type": "code",
      "source": [
        "img, label = test_dataset[3]\n",
        "plt.imshow(img[0], cmap='gray')\n",
        "print('Label:', label, ', Predicted:', predict_image(img, model))"
      ],
      "metadata": {
        "colab": {
          "base_uri": "https://localhost:8080/",
          "height": 448
        },
        "id": "1Rfnb16GcVaT",
        "outputId": "46dde5fc-cf91-41d3-a6a8-4632f6d15c9d"
      },
      "execution_count": 252,
      "outputs": [
        {
          "output_type": "stream",
          "name": "stdout",
          "text": [
            "Label: 0 , Predicted: 0\n"
          ]
        },
        {
          "output_type": "display_data",
          "data": {
            "text/plain": [
              "<Figure size 640x480 with 1 Axes>"
            ],
            "image/png": "[encoded data removed]"
          },
          "metadata": {}
        }
      ]
    },
    {
      "cell_type": "code",
      "source": [
        "img, label = test_dataset[100]\n",
        "plt.imshow(img[0], cmap='gray')\n",
        "print('Label:', label, ', Predicted:', predict_image(img, model))"
      ],
      "metadata": {
        "colab": {
          "base_uri": "https://localhost:8080/",
          "height": 448
        },
        "id": "yyi69__BcbRK",
        "outputId": "47c07b6b-61be-40fb-8ac9-39f06bc5e339"
      },
      "execution_count": 253,
      "outputs": [
        {
          "output_type": "stream",
          "name": "stdout",
          "text": [
            "Label: 6 , Predicted: 6\n"
          ]
        },
        {
          "output_type": "display_data",
          "data": {
            "text/plain": [
              "<Figure size 640x480 with 1 Axes>"
            ],
            "image/png": "[encoded data removed]"
          },
          "metadata": {}
        }
      ]
    },
    {
      "cell_type": "code",
      "source": [
        "img, label = test_dataset[4]\n",
        "plt.imshow(img[0], cmap='gray')\n",
        "print('Label:', label, ', Predicted:', predict_image(img, model))"
      ],
      "metadata": {
        "colab": {
          "base_uri": "https://localhost:8080/",
          "height": 448
        },
        "id": "MO-cmbO3ckul",
        "outputId": "46341bba-fd71-46d8-f28a-6975c7988c6c"
      },
      "execution_count": 254,
      "outputs": [
        {
          "output_type": "stream",
          "name": "stdout",
          "text": [
            "Label: 4 , Predicted: 4\n"
          ]
        },
        {
          "output_type": "display_data",
          "data": {
            "text/plain": [
              "<Figure size 640x480 with 1 Axes>"
            ],
            "image/png": "[encoded data removed]"
          },
          "metadata": {}
        }
      ]
    },
    {
      "cell_type": "code",
      "source": [
        "img, label = test_dataset[1839]\n",
        "plt.imshow(img[0], cmap='gray')\n",
        "print('Label:', label, ', Predicted:', predict_image(img, model))"
      ],
      "metadata": {
        "colab": {
          "base_uri": "https://localhost:8080/",
          "height": 448
        },
        "id": "FMEAKZdkcovv",
        "outputId": "904e2e1c-ad07-4de1-8cc7-ea50f4bb7335"
      },
      "execution_count": 255,
      "outputs": [
        {
          "output_type": "stream",
          "name": "stdout",
          "text": [
            "Label: 2 , Predicted: 8\n"
          ]
        },
        {
          "output_type": "display_data",
          "data": {
            "text/plain": [
              "<Figure size 640x480 with 1 Axes>"
            ],
            "image/png": "[encoded data removed]"
          },
          "metadata": {}
        }
      ]
    },
    {
      "cell_type": "code",
      "source": [],
      "metadata": {
        "id": "i2zqjqgdcrAG"
      },
      "execution_count": 255,
      "outputs": []
    }
  ]
}